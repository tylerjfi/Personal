{
 "cells": [
  {
   "cell_type": "markdown",
   "metadata": {},
   "source": [
    "# NFL Super Bowl Historical Data"
   ]
  },
  {
   "cell_type": "markdown",
   "metadata": {},
   "source": [
    "### Import Libraries"
   ]
  },
  {
   "cell_type": "code",
   "execution_count": 1,
   "metadata": {},
   "outputs": [],
   "source": [
    "import pandas as pd\n",
    "import numpy as np\n",
    "import matplotlib.pyplot as plt\n",
    "%matplotlib inline\n",
    "import seaborn as sns"
   ]
  },
  {
   "cell_type": "markdown",
   "metadata": {},
   "source": [
    "## Import Data"
   ]
  },
  {
   "cell_type": "code",
   "execution_count": 2,
   "metadata": {
    "scrolled": true
   },
   "outputs": [
    {
     "data": {
      "text/html": [
       "<div>\n",
       "<style scoped>\n",
       "    .dataframe tbody tr th:only-of-type {\n",
       "        vertical-align: middle;\n",
       "    }\n",
       "\n",
       "    .dataframe tbody tr th {\n",
       "        vertical-align: top;\n",
       "    }\n",
       "\n",
       "    .dataframe thead th {\n",
       "        text-align: right;\n",
       "    }\n",
       "</style>\n",
       "<table border=\"1\" class=\"dataframe\">\n",
       "  <thead>\n",
       "    <tr style=\"text-align: right;\">\n",
       "      <th></th>\n",
       "      <th>Date</th>\n",
       "      <th>SB</th>\n",
       "      <th>Winner</th>\n",
       "      <th>Winner Pts</th>\n",
       "      <th>Loser</th>\n",
       "      <th>Loser Pts</th>\n",
       "      <th>MVP</th>\n",
       "      <th>Stadium</th>\n",
       "      <th>City</th>\n",
       "      <th>State</th>\n",
       "    </tr>\n",
       "  </thead>\n",
       "  <tbody>\n",
       "    <tr>\n",
       "      <th>0</th>\n",
       "      <td>Feb 2 2020</td>\n",
       "      <td>LIV (54)</td>\n",
       "      <td>Kansas City Chiefs</td>\n",
       "      <td>31</td>\n",
       "      <td>San Francisco 49ers</td>\n",
       "      <td>20</td>\n",
       "      <td>Patrick Mahomes</td>\n",
       "      <td>Hard Rock Stadium</td>\n",
       "      <td>Miami Gardens</td>\n",
       "      <td>Florida</td>\n",
       "    </tr>\n",
       "    <tr>\n",
       "      <th>1</th>\n",
       "      <td>Feb 3 2019</td>\n",
       "      <td>LIII (53)</td>\n",
       "      <td>New England Patriots</td>\n",
       "      <td>13</td>\n",
       "      <td>Los Angeles Rams</td>\n",
       "      <td>3</td>\n",
       "      <td>Julian Edelman</td>\n",
       "      <td>Mercedes-Benz Stadium</td>\n",
       "      <td>Atlanta</td>\n",
       "      <td>Georgia</td>\n",
       "    </tr>\n",
       "    <tr>\n",
       "      <th>2</th>\n",
       "      <td>Feb 4 2018</td>\n",
       "      <td>LII (52)</td>\n",
       "      <td>Philadelphia Eagles</td>\n",
       "      <td>41</td>\n",
       "      <td>New England Patriots</td>\n",
       "      <td>33</td>\n",
       "      <td>Nick Foles</td>\n",
       "      <td>U.S. Bank Stadium</td>\n",
       "      <td>Minneapolis</td>\n",
       "      <td>Minnesota</td>\n",
       "    </tr>\n",
       "    <tr>\n",
       "      <th>3</th>\n",
       "      <td>Feb 5 2017</td>\n",
       "      <td>LI (51)</td>\n",
       "      <td>New England Patriots</td>\n",
       "      <td>34</td>\n",
       "      <td>Atlanta Falcons</td>\n",
       "      <td>28</td>\n",
       "      <td>Tom Brady</td>\n",
       "      <td>NRG Stadium</td>\n",
       "      <td>Houston</td>\n",
       "      <td>Texas</td>\n",
       "    </tr>\n",
       "    <tr>\n",
       "      <th>4</th>\n",
       "      <td>Feb 7 2016</td>\n",
       "      <td>50</td>\n",
       "      <td>Denver Broncos</td>\n",
       "      <td>24</td>\n",
       "      <td>Carolina Panthers</td>\n",
       "      <td>10</td>\n",
       "      <td>Von Miller</td>\n",
       "      <td>Levi's Stadium</td>\n",
       "      <td>Santa Clara</td>\n",
       "      <td>California</td>\n",
       "    </tr>\n",
       "    <tr>\n",
       "      <th>5</th>\n",
       "      <td>Feb 1 2015</td>\n",
       "      <td>XLIX (49)</td>\n",
       "      <td>New England Patriots</td>\n",
       "      <td>28</td>\n",
       "      <td>Seattle Seahawks</td>\n",
       "      <td>24</td>\n",
       "      <td>Tom Brady</td>\n",
       "      <td>University of Phoenix Stadium</td>\n",
       "      <td>Glendale</td>\n",
       "      <td>Arizona</td>\n",
       "    </tr>\n",
       "    <tr>\n",
       "      <th>6</th>\n",
       "      <td>Feb 2 2014</td>\n",
       "      <td>XLVIII (48)</td>\n",
       "      <td>Seattle Seahawks</td>\n",
       "      <td>43</td>\n",
       "      <td>Denver Broncos</td>\n",
       "      <td>8</td>\n",
       "      <td>Malcolm Smith</td>\n",
       "      <td>MetLife Stadium</td>\n",
       "      <td>East Rutherford</td>\n",
       "      <td>New Jersey</td>\n",
       "    </tr>\n",
       "    <tr>\n",
       "      <th>7</th>\n",
       "      <td>Feb 3 2013</td>\n",
       "      <td>XLVII (47)</td>\n",
       "      <td>Baltimore Ravens</td>\n",
       "      <td>34</td>\n",
       "      <td>San Francisco 49ers</td>\n",
       "      <td>31</td>\n",
       "      <td>Joe Flacco</td>\n",
       "      <td>Mercedes-Benz Superdome</td>\n",
       "      <td>New Orleans</td>\n",
       "      <td>Louisiana</td>\n",
       "    </tr>\n",
       "    <tr>\n",
       "      <th>8</th>\n",
       "      <td>Feb 5 2012</td>\n",
       "      <td>XLVI (46)</td>\n",
       "      <td>New York Giants</td>\n",
       "      <td>21</td>\n",
       "      <td>New England Patriots</td>\n",
       "      <td>17</td>\n",
       "      <td>Eli Manning</td>\n",
       "      <td>Lucas Oil Stadium</td>\n",
       "      <td>Indianapolis</td>\n",
       "      <td>Indiana</td>\n",
       "    </tr>\n",
       "    <tr>\n",
       "      <th>9</th>\n",
       "      <td>Feb 6 2011</td>\n",
       "      <td>XLV (45)</td>\n",
       "      <td>Green Bay Packers</td>\n",
       "      <td>31</td>\n",
       "      <td>Pittsburgh Steelers</td>\n",
       "      <td>25</td>\n",
       "      <td>Aaron Rodgers</td>\n",
       "      <td>Cowboys Stadium</td>\n",
       "      <td>Arlington</td>\n",
       "      <td>Texas</td>\n",
       "    </tr>\n",
       "  </tbody>\n",
       "</table>\n",
       "</div>"
      ],
      "text/plain": [
       "         Date           SB                Winner  Winner Pts  \\\n",
       "0  Feb 2 2020     LIV (54)    Kansas City Chiefs          31   \n",
       "1  Feb 3 2019    LIII (53)  New England Patriots          13   \n",
       "2  Feb 4 2018     LII (52)   Philadelphia Eagles          41   \n",
       "3  Feb 5 2017      LI (51)  New England Patriots          34   \n",
       "4  Feb 7 2016           50        Denver Broncos          24   \n",
       "5  Feb 1 2015    XLIX (49)  New England Patriots          28   \n",
       "6  Feb 2 2014  XLVIII (48)      Seattle Seahawks          43   \n",
       "7  Feb 3 2013   XLVII (47)      Baltimore Ravens          34   \n",
       "8  Feb 5 2012    XLVI (46)       New York Giants          21   \n",
       "9  Feb 6 2011     XLV (45)     Green Bay Packers          31   \n",
       "\n",
       "                  Loser  Loser Pts              MVP  \\\n",
       "0   San Francisco 49ers         20  Patrick Mahomes   \n",
       "1      Los Angeles Rams          3   Julian Edelman   \n",
       "2  New England Patriots         33       Nick Foles   \n",
       "3       Atlanta Falcons         28        Tom Brady   \n",
       "4     Carolina Panthers         10       Von Miller   \n",
       "5      Seattle Seahawks         24        Tom Brady   \n",
       "6        Denver Broncos          8    Malcolm Smith   \n",
       "7   San Francisco 49ers         31       Joe Flacco   \n",
       "8  New England Patriots         17      Eli Manning   \n",
       "9   Pittsburgh Steelers         25    Aaron Rodgers   \n",
       "\n",
       "                         Stadium             City       State  \n",
       "0              Hard Rock Stadium    Miami Gardens     Florida  \n",
       "1          Mercedes-Benz Stadium          Atlanta     Georgia  \n",
       "2              U.S. Bank Stadium      Minneapolis   Minnesota  \n",
       "3                    NRG Stadium          Houston       Texas  \n",
       "4                 Levi's Stadium      Santa Clara  California  \n",
       "5  University of Phoenix Stadium         Glendale     Arizona  \n",
       "6                MetLife Stadium  East Rutherford  New Jersey  \n",
       "7        Mercedes-Benz Superdome      New Orleans   Louisiana  \n",
       "8              Lucas Oil Stadium     Indianapolis     Indiana  \n",
       "9                Cowboys Stadium        Arlington       Texas  "
      ]
     },
     "execution_count": 2,
     "metadata": {},
     "output_type": "execute_result"
    }
   ],
   "source": [
    "sb_data = pd.read_csv('superbowl-history-1967-2020/superbowl.csv')\n",
    "sb_data.head(10)"
   ]
  },
  {
   "cell_type": "code",
   "execution_count": 3,
   "metadata": {},
   "outputs": [
    {
     "name": "stdout",
     "output_type": "stream",
     "text": [
      "<class 'pandas.core.frame.DataFrame'>\n",
      "RangeIndex: 54 entries, 0 to 53\n",
      "Data columns (total 10 columns):\n",
      "Date          54 non-null object\n",
      "SB            54 non-null object\n",
      "Winner        54 non-null object\n",
      "Winner Pts    54 non-null int64\n",
      "Loser         54 non-null object\n",
      "Loser Pts     54 non-null int64\n",
      "MVP           54 non-null object\n",
      "Stadium       54 non-null object\n",
      "City          54 non-null object\n",
      "State         54 non-null object\n",
      "dtypes: int64(2), object(8)\n",
      "memory usage: 4.3+ KB\n"
     ]
    }
   ],
   "source": [
    "sb_data.info()"
   ]
  },
  {
   "cell_type": "markdown",
   "metadata": {},
   "source": [
    "This dataset includes data, including the winner and loser of each Super Bowl, the points scored for each team, the MVP of the game, and where the game took place.  Taking a quick look at the data, the first thing that I notice is that the *SB* column appears to be inconsistent.  Some have numerals followed by the numeric value in parentheses, but Super Bowl 50 is written in a different format.  Let's investigate this column further."
   ]
  },
  {
   "cell_type": "markdown",
   "metadata": {},
   "source": [
    "## Clean SB column"
   ]
  },
  {
   "cell_type": "code",
   "execution_count": 4,
   "metadata": {
    "scrolled": true
   },
   "outputs": [
    {
     "data": {
      "text/plain": [
       "0         LIV (54)\n",
       "1        LIII (53)\n",
       "2         LII (52)\n",
       "3          LI (51)\n",
       "4               50\n",
       "5        XLIX (49)\n",
       "6      XLVIII (48)\n",
       "7       XLVII (47)\n",
       "8        XLVI (46)\n",
       "9         XLV (45)\n",
       "10       XLIV (44)\n",
       "11      XLIII (43)\n",
       "12       XLII (42)\n",
       "13        XLI (41)\n",
       "14         XL (40)\n",
       "15      XXXIX (39)\n",
       "16    XXXVIII (38)\n",
       "17     XXXVII (37)\n",
       "18      XXXVI (36)\n",
       "19       XXXV (35)\n",
       "20      XXXIV (34)\n",
       "21     XXXIII (33)\n",
       "22      XXXII (32)\n",
       "23       XXXI (31)\n",
       "24        XXX (30)\n",
       "25       XXIX (29)\n",
       "26     XXVIII (28)\n",
       "27      XXVII (27)\n",
       "28       XXVI (26)\n",
       "29        XXV (25)\n",
       "30       XXIV (24)\n",
       "31      XXIII (23)\n",
       "32       XXII (22)\n",
       "33        XXI (21)\n",
       "34         XX (20)\n",
       "35        XIX (19)\n",
       "36      XVIII (18)\n",
       "37       XVII (17)\n",
       "38        XVI (16)\n",
       "39         XV (15)\n",
       "40        XIV (14)\n",
       "41       XIII (13)\n",
       "42        XII (12)\n",
       "43         XI (11)\n",
       "44          X (10)\n",
       "45          IX (9)\n",
       "46        VIII (8)\n",
       "47         VII (7)\n",
       "48          VI (6)\n",
       "49           V (5)\n",
       "50          IV (4)\n",
       "51         III (3)\n",
       "52          II (2)\n",
       "53           I (1)\n",
       "Name: SB, dtype: object"
      ]
     },
     "execution_count": 4,
     "metadata": {},
     "output_type": "execute_result"
    }
   ],
   "source": [
    "sb_data['SB']"
   ]
  },
  {
   "cell_type": "markdown",
   "metadata": {},
   "source": [
    "It appears that Super Bowl 50 is the only one that differs from the basic format, but nevertheless, I don't think that the numeral is relevant for this analysis, so I just want to keep the number."
   ]
  },
  {
   "cell_type": "code",
   "execution_count": 5,
   "metadata": {},
   "outputs": [],
   "source": [
    "#Split string at the space\n",
    "sb_data['SB'] = sb_data['SB'].str.split()\n",
    "#Only keep last element of list created\n",
    "sb_data['SB'] = sb_data['SB'].str[-1]\n",
    "#Replace open and close parentheses\n",
    "sb_data['SB'] = sb_data['SB'].str.replace('(','')\n",
    "sb_data['SB'] = sb_data['SB'].str.replace(')','')\n",
    "#Convert to an integer\n",
    "sb_data['SB'] = sb_data['SB'].astype('int')"
   ]
  },
  {
   "cell_type": "code",
   "execution_count": 6,
   "metadata": {
    "scrolled": false
   },
   "outputs": [
    {
     "data": {
      "text/plain": [
       "0    54\n",
       "1    53\n",
       "2    52\n",
       "3    51\n",
       "4    50\n",
       "Name: SB, dtype: int32"
      ]
     },
     "execution_count": 6,
     "metadata": {},
     "output_type": "execute_result"
    }
   ],
   "source": [
    "sb_data['SB'].head()"
   ]
  },
  {
   "cell_type": "markdown",
   "metadata": {},
   "source": [
    "## Clean Column Names\n",
    "\n",
    "Personally when working with data, especially when needing to refer to columns by name, I prefer to use all lowercase without spaces.  So that is my next task, to rename the columns to be more efficient"
   ]
  },
  {
   "cell_type": "code",
   "execution_count": 7,
   "metadata": {},
   "outputs": [
    {
     "data": {
      "text/html": [
       "<div>\n",
       "<style scoped>\n",
       "    .dataframe tbody tr th:only-of-type {\n",
       "        vertical-align: middle;\n",
       "    }\n",
       "\n",
       "    .dataframe tbody tr th {\n",
       "        vertical-align: top;\n",
       "    }\n",
       "\n",
       "    .dataframe thead th {\n",
       "        text-align: right;\n",
       "    }\n",
       "</style>\n",
       "<table border=\"1\" class=\"dataframe\">\n",
       "  <thead>\n",
       "    <tr style=\"text-align: right;\">\n",
       "      <th></th>\n",
       "      <th>date</th>\n",
       "      <th>sb_num</th>\n",
       "      <th>winner</th>\n",
       "      <th>winner_pts</th>\n",
       "      <th>loser</th>\n",
       "      <th>loser_pts</th>\n",
       "      <th>mvp</th>\n",
       "      <th>stadium</th>\n",
       "      <th>city</th>\n",
       "      <th>state</th>\n",
       "    </tr>\n",
       "  </thead>\n",
       "  <tbody>\n",
       "    <tr>\n",
       "      <th>0</th>\n",
       "      <td>Feb 2 2020</td>\n",
       "      <td>54</td>\n",
       "      <td>Kansas City Chiefs</td>\n",
       "      <td>31</td>\n",
       "      <td>San Francisco 49ers</td>\n",
       "      <td>20</td>\n",
       "      <td>Patrick Mahomes</td>\n",
       "      <td>Hard Rock Stadium</td>\n",
       "      <td>Miami Gardens</td>\n",
       "      <td>Florida</td>\n",
       "    </tr>\n",
       "    <tr>\n",
       "      <th>1</th>\n",
       "      <td>Feb 3 2019</td>\n",
       "      <td>53</td>\n",
       "      <td>New England Patriots</td>\n",
       "      <td>13</td>\n",
       "      <td>Los Angeles Rams</td>\n",
       "      <td>3</td>\n",
       "      <td>Julian Edelman</td>\n",
       "      <td>Mercedes-Benz Stadium</td>\n",
       "      <td>Atlanta</td>\n",
       "      <td>Georgia</td>\n",
       "    </tr>\n",
       "    <tr>\n",
       "      <th>2</th>\n",
       "      <td>Feb 4 2018</td>\n",
       "      <td>52</td>\n",
       "      <td>Philadelphia Eagles</td>\n",
       "      <td>41</td>\n",
       "      <td>New England Patriots</td>\n",
       "      <td>33</td>\n",
       "      <td>Nick Foles</td>\n",
       "      <td>U.S. Bank Stadium</td>\n",
       "      <td>Minneapolis</td>\n",
       "      <td>Minnesota</td>\n",
       "    </tr>\n",
       "    <tr>\n",
       "      <th>3</th>\n",
       "      <td>Feb 5 2017</td>\n",
       "      <td>51</td>\n",
       "      <td>New England Patriots</td>\n",
       "      <td>34</td>\n",
       "      <td>Atlanta Falcons</td>\n",
       "      <td>28</td>\n",
       "      <td>Tom Brady</td>\n",
       "      <td>NRG Stadium</td>\n",
       "      <td>Houston</td>\n",
       "      <td>Texas</td>\n",
       "    </tr>\n",
       "    <tr>\n",
       "      <th>4</th>\n",
       "      <td>Feb 7 2016</td>\n",
       "      <td>50</td>\n",
       "      <td>Denver Broncos</td>\n",
       "      <td>24</td>\n",
       "      <td>Carolina Panthers</td>\n",
       "      <td>10</td>\n",
       "      <td>Von Miller</td>\n",
       "      <td>Levi's Stadium</td>\n",
       "      <td>Santa Clara</td>\n",
       "      <td>California</td>\n",
       "    </tr>\n",
       "  </tbody>\n",
       "</table>\n",
       "</div>"
      ],
      "text/plain": [
       "         date  sb_num                winner  winner_pts                 loser  \\\n",
       "0  Feb 2 2020      54    Kansas City Chiefs          31   San Francisco 49ers   \n",
       "1  Feb 3 2019      53  New England Patriots          13      Los Angeles Rams   \n",
       "2  Feb 4 2018      52   Philadelphia Eagles          41  New England Patriots   \n",
       "3  Feb 5 2017      51  New England Patriots          34       Atlanta Falcons   \n",
       "4  Feb 7 2016      50        Denver Broncos          24     Carolina Panthers   \n",
       "\n",
       "   loser_pts              mvp                stadium           city  \\\n",
       "0         20  Patrick Mahomes      Hard Rock Stadium  Miami Gardens   \n",
       "1          3   Julian Edelman  Mercedes-Benz Stadium        Atlanta   \n",
       "2         33       Nick Foles      U.S. Bank Stadium    Minneapolis   \n",
       "3         28        Tom Brady            NRG Stadium        Houston   \n",
       "4         10       Von Miller         Levi's Stadium    Santa Clara   \n",
       "\n",
       "        state  \n",
       "0     Florida  \n",
       "1     Georgia  \n",
       "2   Minnesota  \n",
       "3       Texas  \n",
       "4  California  "
      ]
     },
     "execution_count": 7,
     "metadata": {},
     "output_type": "execute_result"
    }
   ],
   "source": [
    "#map for old columns names and what they will be replaced with\n",
    "mapping = {\n",
    "    'Date':'date', 'SB':'sb_num', 'Winner':'winner',\n",
    "    'Winner Pts':'winner_pts', 'Loser':'loser', 'Loser Pts':'loser_pts',\n",
    "    'MVP':'mvp', 'Stadium':'stadium', 'City':'city', 'State':'state'\n",
    "}\n",
    "#Rename the columns\n",
    "sb_data = sb_data.rename(columns=mapping)\n",
    "sb_data.head()"
   ]
  },
  {
   "cell_type": "markdown",
   "metadata": {},
   "source": [
    "Now that that is done, I can begin some analysis.  The first thing that I am curious about is how many Super Bowls each team has won, and who has won the most."
   ]
  },
  {
   "cell_type": "code",
   "execution_count": 8,
   "metadata": {},
   "outputs": [
    {
     "data": {
      "text/plain": [
       "22"
      ]
     },
     "execution_count": 8,
     "metadata": {},
     "output_type": "execute_result"
    }
   ],
   "source": [
    "#Count of different teams that have won the Super Bowl\n",
    "sb_data['winner'].value_counts().count()"
   ]
  },
  {
   "cell_type": "code",
   "execution_count": 9,
   "metadata": {
    "scrolled": true
   },
   "outputs": [
    {
     "data": {
      "text/plain": [
       "Pittsburgh Steelers     6\n",
       "New England Patriots    6\n",
       "San Francisco 49ers     5\n",
       "Dallas Cowboys          5\n",
       "New York Giants         4\n",
       "Green Bay Packers       4\n",
       "Washington Redskins     3\n",
       "Denver Broncos          3\n",
       "Oakland Raiders         2\n",
       "Baltimore Ravens        2\n",
       "Kansas City Chiefs      2\n",
       "Miami Dolphins          2\n",
       "Baltimore Colts         1\n",
       "Philadelphia Eagles     1\n",
       "St. Louis Rams          1\n",
       "Seattle Seahawks        1\n",
       "Los Angeles Raiders     1\n",
       "Tampa Bay Buccaneers    1\n",
       "New York Jets           1\n",
       "New Orleans Saints      1\n",
       "Chicago Bears           1\n",
       "Indianapolis Colts      1\n",
       "Name: winner, dtype: int64"
      ]
     },
     "execution_count": 9,
     "metadata": {},
     "output_type": "execute_result"
    }
   ],
   "source": [
    "#Count how many each times a team name appears in the winner column\n",
    "sb_data['winner'].value_counts().sort_values(ascending=False)"
   ]
  },
  {
   "cell_type": "code",
   "execution_count": 10,
   "metadata": {},
   "outputs": [
    {
     "data": {
      "text/plain": [
       "<BarContainer object of 22 artists>"
      ]
     },
     "execution_count": 10,
     "metadata": {},
     "output_type": "execute_result"
    },
    {
     "data": {
      "image/png": "[encoded data removed]",
      "text/plain": [
       "<Figure size 648x720 with 1 Axes>"
      ]
     },
     "metadata": {
      "needs_background": "light"
     },
     "output_type": "display_data"
    }
   ],
   "source": [
    "plt.figure(figsize = (9,10))\n",
    "plt.xticks(rotation=75)\n",
    "plt.bar(x=sb_data['winner'].value_counts().sort_values(ascending=False).index, \n",
    "        height=sb_data['winner'].value_counts().values)"
   ]
  },
  {
   "cell_type": "markdown",
   "metadata": {},
   "source": [
    "A total of 22 different teams have won the Super Bowl. Note that this is a count of different teams, but not necessarily different *franchises*. For instance, the Baltimore Colts won the Super Bowl but later relocated and became the Indianapolis Colts, who then went on to win a Super Bowl of their own. These teams might be a part of the same franchise, but are categorized as different teams for the purpose of this analysis.\n",
    "\n",
    "Both the New England Patriots and the Pittsburgh Steelers have won a record six Super Bowls. If you are familiar with the NFL, you probably know all about the Patriots dominance in the league since Tom Brady became their quarterback in 2000."
   ]
  },
  {
   "cell_type": "code",
   "execution_count": 11,
   "metadata": {},
   "outputs": [],
   "source": [
    "#Convert date to datetime object so it can be used for comparison\n",
    "sb_data['date'] = pd.to_datetime(sb_data['date'])"
   ]
  },
  {
   "cell_type": "code",
   "execution_count": 12,
   "metadata": {},
   "outputs": [
    {
     "data": {
      "text/plain": [
       "0   2020-02-02\n",
       "1   2019-02-03\n",
       "2   2018-02-04\n",
       "3   2017-02-05\n",
       "4   2016-02-07\n",
       "Name: date, dtype: datetime64[ns]"
      ]
     },
     "execution_count": 12,
     "metadata": {},
     "output_type": "execute_result"
    }
   ],
   "source": [
    "sb_data['date'].head()"
   ]
  },
  {
   "cell_type": "code",
   "execution_count": 13,
   "metadata": {
    "scrolled": true
   },
   "outputs": [
    {
     "data": {
      "text/plain": [
       "Timestamp('2000-11-23 00:00:00')"
      ]
     },
     "execution_count": 13,
     "metadata": {},
     "output_type": "execute_result"
    }
   ],
   "source": [
    "# Tom Brady debut Nov, 23, 2000\n",
    "brady_debut = pd.to_datetime('Nov 23 2000')\n",
    "brady_debut"
   ]
  },
  {
   "cell_type": "code",
   "execution_count": 14,
   "metadata": {
    "scrolled": true
   },
   "outputs": [
    {
     "data": {
      "text/html": [
       "<div>\n",
       "<style scoped>\n",
       "    .dataframe tbody tr th:only-of-type {\n",
       "        vertical-align: middle;\n",
       "    }\n",
       "\n",
       "    .dataframe tbody tr th {\n",
       "        vertical-align: top;\n",
       "    }\n",
       "\n",
       "    .dataframe thead th {\n",
       "        text-align: right;\n",
       "    }\n",
       "</style>\n",
       "<table border=\"1\" class=\"dataframe\">\n",
       "  <thead>\n",
       "    <tr style=\"text-align: right;\">\n",
       "      <th></th>\n",
       "      <th>date</th>\n",
       "      <th>sb_num</th>\n",
       "      <th>winner</th>\n",
       "      <th>winner_pts</th>\n",
       "      <th>loser</th>\n",
       "      <th>loser_pts</th>\n",
       "      <th>mvp</th>\n",
       "      <th>stadium</th>\n",
       "      <th>city</th>\n",
       "      <th>state</th>\n",
       "    </tr>\n",
       "  </thead>\n",
       "  <tbody>\n",
       "    <tr>\n",
       "      <th>1</th>\n",
       "      <td>2019-02-03</td>\n",
       "      <td>53</td>\n",
       "      <td>New England Patriots</td>\n",
       "      <td>13</td>\n",
       "      <td>Los Angeles Rams</td>\n",
       "      <td>3</td>\n",
       "      <td>Julian Edelman</td>\n",
       "      <td>Mercedes-Benz Stadium</td>\n",
       "      <td>Atlanta</td>\n",
       "      <td>Georgia</td>\n",
       "    </tr>\n",
       "    <tr>\n",
       "      <th>3</th>\n",
       "      <td>2017-02-05</td>\n",
       "      <td>51</td>\n",
       "      <td>New England Patriots</td>\n",
       "      <td>34</td>\n",
       "      <td>Atlanta Falcons</td>\n",
       "      <td>28</td>\n",
       "      <td>Tom Brady</td>\n",
       "      <td>NRG Stadium</td>\n",
       "      <td>Houston</td>\n",
       "      <td>Texas</td>\n",
       "    </tr>\n",
       "    <tr>\n",
       "      <th>5</th>\n",
       "      <td>2015-02-01</td>\n",
       "      <td>49</td>\n",
       "      <td>New England Patriots</td>\n",
       "      <td>28</td>\n",
       "      <td>Seattle Seahawks</td>\n",
       "      <td>24</td>\n",
       "      <td>Tom Brady</td>\n",
       "      <td>University of Phoenix Stadium</td>\n",
       "      <td>Glendale</td>\n",
       "      <td>Arizona</td>\n",
       "    </tr>\n",
       "    <tr>\n",
       "      <th>15</th>\n",
       "      <td>2005-02-06</td>\n",
       "      <td>39</td>\n",
       "      <td>New England Patriots</td>\n",
       "      <td>24</td>\n",
       "      <td>Philadelphia Eagles</td>\n",
       "      <td>21</td>\n",
       "      <td>Deion Branch</td>\n",
       "      <td>Alltel Stadium</td>\n",
       "      <td>Jacksonville</td>\n",
       "      <td>Florida</td>\n",
       "    </tr>\n",
       "    <tr>\n",
       "      <th>16</th>\n",
       "      <td>2004-02-01</td>\n",
       "      <td>38</td>\n",
       "      <td>New England Patriots</td>\n",
       "      <td>32</td>\n",
       "      <td>Carolina Panthers</td>\n",
       "      <td>29</td>\n",
       "      <td>Tom Brady</td>\n",
       "      <td>Reliant Stadium</td>\n",
       "      <td>Houston</td>\n",
       "      <td>Texas</td>\n",
       "    </tr>\n",
       "    <tr>\n",
       "      <th>18</th>\n",
       "      <td>2002-02-03</td>\n",
       "      <td>36</td>\n",
       "      <td>New England Patriots</td>\n",
       "      <td>20</td>\n",
       "      <td>St. Louis Rams</td>\n",
       "      <td>17</td>\n",
       "      <td>Tom Brady</td>\n",
       "      <td>Louisiana Superdome</td>\n",
       "      <td>New Orleans</td>\n",
       "      <td>Louisiana</td>\n",
       "    </tr>\n",
       "  </tbody>\n",
       "</table>\n",
       "</div>"
      ],
      "text/plain": [
       "         date  sb_num                winner  winner_pts                loser  \\\n",
       "1  2019-02-03      53  New England Patriots          13     Los Angeles Rams   \n",
       "3  2017-02-05      51  New England Patriots          34      Atlanta Falcons   \n",
       "5  2015-02-01      49  New England Patriots          28     Seattle Seahawks   \n",
       "15 2005-02-06      39  New England Patriots          24  Philadelphia Eagles   \n",
       "16 2004-02-01      38  New England Patriots          32    Carolina Panthers   \n",
       "18 2002-02-03      36  New England Patriots          20       St. Louis Rams   \n",
       "\n",
       "    loser_pts             mvp                        stadium          city  \\\n",
       "1           3  Julian Edelman          Mercedes-Benz Stadium       Atlanta   \n",
       "3          28       Tom Brady                    NRG Stadium       Houston   \n",
       "5          24       Tom Brady  University of Phoenix Stadium      Glendale   \n",
       "15         21    Deion Branch                 Alltel Stadium  Jacksonville   \n",
       "16         29       Tom Brady                Reliant Stadium       Houston   \n",
       "18         17       Tom Brady            Louisiana Superdome   New Orleans   \n",
       "\n",
       "        state  \n",
       "1     Georgia  \n",
       "3       Texas  \n",
       "5     Arizona  \n",
       "15    Florida  \n",
       "16      Texas  \n",
       "18  Louisiana  "
      ]
     },
     "execution_count": 14,
     "metadata": {},
     "output_type": "execute_result"
    }
   ],
   "source": [
    "#Isolate Super Bowls won by the Patriots after the date of Tom Brady's debut\n",
    "sb_data[(sb_data['date'] > brady_debut) & (sb_data['winner'] == 'New England Patriots')]"
   ]
  },
  {
   "cell_type": "markdown",
   "metadata": {},
   "source": [
    "As you can see, the Patriots have won all six of their Super Bowls since Tom Brady took over as their quarterback in 2000.  And as you can see from the data in the *mvp* column, he has won the Super Bowl MVP award in four of those six Super Bowl wins."
   ]
  },
  {
   "cell_type": "code",
   "execution_count": 15,
   "metadata": {
    "scrolled": true
   },
   "outputs": [
    {
     "data": {
      "text/html": [
       "<div>\n",
       "<style scoped>\n",
       "    .dataframe tbody tr th:only-of-type {\n",
       "        vertical-align: middle;\n",
       "    }\n",
       "\n",
       "    .dataframe tbody tr th {\n",
       "        vertical-align: top;\n",
       "    }\n",
       "\n",
       "    .dataframe thead th {\n",
       "        text-align: right;\n",
       "    }\n",
       "</style>\n",
       "<table border=\"1\" class=\"dataframe\">\n",
       "  <thead>\n",
       "    <tr style=\"text-align: right;\">\n",
       "      <th></th>\n",
       "      <th>date</th>\n",
       "      <th>sb_num</th>\n",
       "      <th>winner</th>\n",
       "      <th>winner_pts</th>\n",
       "      <th>loser</th>\n",
       "      <th>loser_pts</th>\n",
       "      <th>mvp</th>\n",
       "      <th>stadium</th>\n",
       "      <th>city</th>\n",
       "      <th>state</th>\n",
       "    </tr>\n",
       "  </thead>\n",
       "  <tbody>\n",
       "    <tr>\n",
       "      <th>11</th>\n",
       "      <td>2009-02-01</td>\n",
       "      <td>43</td>\n",
       "      <td>Pittsburgh Steelers</td>\n",
       "      <td>27</td>\n",
       "      <td>Arizona Cardinals</td>\n",
       "      <td>23</td>\n",
       "      <td>Santonio Holmes</td>\n",
       "      <td>Raymond James Stadium</td>\n",
       "      <td>Tampa</td>\n",
       "      <td>Florida</td>\n",
       "    </tr>\n",
       "    <tr>\n",
       "      <th>14</th>\n",
       "      <td>2006-02-05</td>\n",
       "      <td>40</td>\n",
       "      <td>Pittsburgh Steelers</td>\n",
       "      <td>21</td>\n",
       "      <td>Seattle Seahawks</td>\n",
       "      <td>10</td>\n",
       "      <td>Hines Ward</td>\n",
       "      <td>Ford Field</td>\n",
       "      <td>Detroit</td>\n",
       "      <td>Michigan</td>\n",
       "    </tr>\n",
       "    <tr>\n",
       "      <th>40</th>\n",
       "      <td>1980-01-20</td>\n",
       "      <td>14</td>\n",
       "      <td>Pittsburgh Steelers</td>\n",
       "      <td>31</td>\n",
       "      <td>Los Angeles Rams</td>\n",
       "      <td>19</td>\n",
       "      <td>Terry Bradshaw+</td>\n",
       "      <td>Rose Bowl</td>\n",
       "      <td>Pasadena</td>\n",
       "      <td>California</td>\n",
       "    </tr>\n",
       "    <tr>\n",
       "      <th>41</th>\n",
       "      <td>1979-01-21</td>\n",
       "      <td>13</td>\n",
       "      <td>Pittsburgh Steelers</td>\n",
       "      <td>35</td>\n",
       "      <td>Dallas Cowboys</td>\n",
       "      <td>31</td>\n",
       "      <td>Terry Bradshaw+</td>\n",
       "      <td>Orange Bowl</td>\n",
       "      <td>Miami</td>\n",
       "      <td>Florida</td>\n",
       "    </tr>\n",
       "    <tr>\n",
       "      <th>44</th>\n",
       "      <td>1976-01-18</td>\n",
       "      <td>10</td>\n",
       "      <td>Pittsburgh Steelers</td>\n",
       "      <td>21</td>\n",
       "      <td>Dallas Cowboys</td>\n",
       "      <td>17</td>\n",
       "      <td>Lynn Swann+</td>\n",
       "      <td>Orange Bowl</td>\n",
       "      <td>Miami</td>\n",
       "      <td>Florida</td>\n",
       "    </tr>\n",
       "    <tr>\n",
       "      <th>45</th>\n",
       "      <td>1975-01-12</td>\n",
       "      <td>9</td>\n",
       "      <td>Pittsburgh Steelers</td>\n",
       "      <td>16</td>\n",
       "      <td>Minnesota Vikings</td>\n",
       "      <td>6</td>\n",
       "      <td>Franco Harris+</td>\n",
       "      <td>Tulane Stadium</td>\n",
       "      <td>New Orleans</td>\n",
       "      <td>Louisiana</td>\n",
       "    </tr>\n",
       "  </tbody>\n",
       "</table>\n",
       "</div>"
      ],
      "text/plain": [
       "         date  sb_num               winner  winner_pts              loser  \\\n",
       "11 2009-02-01      43  Pittsburgh Steelers          27  Arizona Cardinals   \n",
       "14 2006-02-05      40  Pittsburgh Steelers          21   Seattle Seahawks   \n",
       "40 1980-01-20      14  Pittsburgh Steelers          31   Los Angeles Rams   \n",
       "41 1979-01-21      13  Pittsburgh Steelers          35     Dallas Cowboys   \n",
       "44 1976-01-18      10  Pittsburgh Steelers          21     Dallas Cowboys   \n",
       "45 1975-01-12       9  Pittsburgh Steelers          16  Minnesota Vikings   \n",
       "\n",
       "    loser_pts              mvp                stadium         city       state  \n",
       "11         23  Santonio Holmes  Raymond James Stadium        Tampa     Florida  \n",
       "14         10       Hines Ward             Ford Field      Detroit    Michigan  \n",
       "40         19  Terry Bradshaw+              Rose Bowl     Pasadena  California  \n",
       "41         31  Terry Bradshaw+            Orange Bowl        Miami     Florida  \n",
       "44         17      Lynn Swann+            Orange Bowl        Miami     Florida  \n",
       "45          6   Franco Harris+         Tulane Stadium  New Orleans   Louisiana  "
      ]
     },
     "execution_count": 15,
     "metadata": {},
     "output_type": "execute_result"
    }
   ],
   "source": [
    "sb_data[sb_data['winner'] == 'Pittsburgh Steelers']"
   ]
  },
  {
   "cell_type": "code",
   "execution_count": 16,
   "metadata": {},
   "outputs": [],
   "source": [
    "sb_data['mvp'] = sb_data['mvp'].str.replace('+','')"
   ]
  },
  {
   "cell_type": "markdown",
   "metadata": {},
   "source": [
    "The Pittsburgh Steelers have also won six Super Bowls, but the majority of their Super Bowl wins came between 1975 and 1980.  Only two have occurred in the past 20 years however."
   ]
  },
  {
   "cell_type": "markdown",
   "metadata": {},
   "source": [
    "## Patriots Dynasty Under Tom Brady"
   ]
  },
  {
   "cell_type": "markdown",
   "metadata": {},
   "source": [
    "As I showed a little earlier, the Patriots have won all six of their Super Bowls since Tom Brady became their quarterback. As the Steelers fan, it brings me no joy to say this, but the Patriots have been the team to beat every year since Brady took the helm.  So now I want to focus on the NFL after Tom Brady joined the league."
   ]
  },
  {
   "cell_type": "code",
   "execution_count": 17,
   "metadata": {
    "scrolled": true
   },
   "outputs": [
    {
     "data": {
      "text/html": [
       "<div>\n",
       "<style scoped>\n",
       "    .dataframe tbody tr th:only-of-type {\n",
       "        vertical-align: middle;\n",
       "    }\n",
       "\n",
       "    .dataframe tbody tr th {\n",
       "        vertical-align: top;\n",
       "    }\n",
       "\n",
       "    .dataframe thead th {\n",
       "        text-align: right;\n",
       "    }\n",
       "</style>\n",
       "<table border=\"1\" class=\"dataframe\">\n",
       "  <thead>\n",
       "    <tr style=\"text-align: right;\">\n",
       "      <th></th>\n",
       "      <th>date</th>\n",
       "      <th>sb_num</th>\n",
       "      <th>winner</th>\n",
       "      <th>winner_pts</th>\n",
       "      <th>loser</th>\n",
       "      <th>loser_pts</th>\n",
       "      <th>mvp</th>\n",
       "      <th>stadium</th>\n",
       "      <th>city</th>\n",
       "      <th>state</th>\n",
       "    </tr>\n",
       "  </thead>\n",
       "  <tbody>\n",
       "    <tr>\n",
       "      <th>1</th>\n",
       "      <td>2019-02-03</td>\n",
       "      <td>53</td>\n",
       "      <td>New England Patriots</td>\n",
       "      <td>13</td>\n",
       "      <td>Los Angeles Rams</td>\n",
       "      <td>3</td>\n",
       "      <td>Julian Edelman</td>\n",
       "      <td>Mercedes-Benz Stadium</td>\n",
       "      <td>Atlanta</td>\n",
       "      <td>Georgia</td>\n",
       "    </tr>\n",
       "    <tr>\n",
       "      <th>2</th>\n",
       "      <td>2018-02-04</td>\n",
       "      <td>52</td>\n",
       "      <td>Philadelphia Eagles</td>\n",
       "      <td>41</td>\n",
       "      <td>New England Patriots</td>\n",
       "      <td>33</td>\n",
       "      <td>Nick Foles</td>\n",
       "      <td>U.S. Bank Stadium</td>\n",
       "      <td>Minneapolis</td>\n",
       "      <td>Minnesota</td>\n",
       "    </tr>\n",
       "    <tr>\n",
       "      <th>3</th>\n",
       "      <td>2017-02-05</td>\n",
       "      <td>51</td>\n",
       "      <td>New England Patriots</td>\n",
       "      <td>34</td>\n",
       "      <td>Atlanta Falcons</td>\n",
       "      <td>28</td>\n",
       "      <td>Tom Brady</td>\n",
       "      <td>NRG Stadium</td>\n",
       "      <td>Houston</td>\n",
       "      <td>Texas</td>\n",
       "    </tr>\n",
       "    <tr>\n",
       "      <th>5</th>\n",
       "      <td>2015-02-01</td>\n",
       "      <td>49</td>\n",
       "      <td>New England Patriots</td>\n",
       "      <td>28</td>\n",
       "      <td>Seattle Seahawks</td>\n",
       "      <td>24</td>\n",
       "      <td>Tom Brady</td>\n",
       "      <td>University of Phoenix Stadium</td>\n",
       "      <td>Glendale</td>\n",
       "      <td>Arizona</td>\n",
       "    </tr>\n",
       "    <tr>\n",
       "      <th>8</th>\n",
       "      <td>2012-02-05</td>\n",
       "      <td>46</td>\n",
       "      <td>New York Giants</td>\n",
       "      <td>21</td>\n",
       "      <td>New England Patriots</td>\n",
       "      <td>17</td>\n",
       "      <td>Eli Manning</td>\n",
       "      <td>Lucas Oil Stadium</td>\n",
       "      <td>Indianapolis</td>\n",
       "      <td>Indiana</td>\n",
       "    </tr>\n",
       "    <tr>\n",
       "      <th>12</th>\n",
       "      <td>2008-02-03</td>\n",
       "      <td>42</td>\n",
       "      <td>New York Giants</td>\n",
       "      <td>17</td>\n",
       "      <td>New England Patriots</td>\n",
       "      <td>14</td>\n",
       "      <td>Eli Manning</td>\n",
       "      <td>University of Phoenix Stadium</td>\n",
       "      <td>Glendale</td>\n",
       "      <td>Arizona</td>\n",
       "    </tr>\n",
       "    <tr>\n",
       "      <th>15</th>\n",
       "      <td>2005-02-06</td>\n",
       "      <td>39</td>\n",
       "      <td>New England Patriots</td>\n",
       "      <td>24</td>\n",
       "      <td>Philadelphia Eagles</td>\n",
       "      <td>21</td>\n",
       "      <td>Deion Branch</td>\n",
       "      <td>Alltel Stadium</td>\n",
       "      <td>Jacksonville</td>\n",
       "      <td>Florida</td>\n",
       "    </tr>\n",
       "    <tr>\n",
       "      <th>16</th>\n",
       "      <td>2004-02-01</td>\n",
       "      <td>38</td>\n",
       "      <td>New England Patriots</td>\n",
       "      <td>32</td>\n",
       "      <td>Carolina Panthers</td>\n",
       "      <td>29</td>\n",
       "      <td>Tom Brady</td>\n",
       "      <td>Reliant Stadium</td>\n",
       "      <td>Houston</td>\n",
       "      <td>Texas</td>\n",
       "    </tr>\n",
       "    <tr>\n",
       "      <th>18</th>\n",
       "      <td>2002-02-03</td>\n",
       "      <td>36</td>\n",
       "      <td>New England Patriots</td>\n",
       "      <td>20</td>\n",
       "      <td>St. Louis Rams</td>\n",
       "      <td>17</td>\n",
       "      <td>Tom Brady</td>\n",
       "      <td>Louisiana Superdome</td>\n",
       "      <td>New Orleans</td>\n",
       "      <td>Louisiana</td>\n",
       "    </tr>\n",
       "  </tbody>\n",
       "</table>\n",
       "</div>"
      ],
      "text/plain": [
       "         date  sb_num                winner  winner_pts                 loser  \\\n",
       "1  2019-02-03      53  New England Patriots          13      Los Angeles Rams   \n",
       "2  2018-02-04      52   Philadelphia Eagles          41  New England Patriots   \n",
       "3  2017-02-05      51  New England Patriots          34       Atlanta Falcons   \n",
       "5  2015-02-01      49  New England Patriots          28      Seattle Seahawks   \n",
       "8  2012-02-05      46       New York Giants          21  New England Patriots   \n",
       "12 2008-02-03      42       New York Giants          17  New England Patriots   \n",
       "15 2005-02-06      39  New England Patriots          24   Philadelphia Eagles   \n",
       "16 2004-02-01      38  New England Patriots          32     Carolina Panthers   \n",
       "18 2002-02-03      36  New England Patriots          20        St. Louis Rams   \n",
       "\n",
       "    loser_pts             mvp                        stadium          city  \\\n",
       "1           3  Julian Edelman          Mercedes-Benz Stadium       Atlanta   \n",
       "2          33      Nick Foles              U.S. Bank Stadium   Minneapolis   \n",
       "3          28       Tom Brady                    NRG Stadium       Houston   \n",
       "5          24       Tom Brady  University of Phoenix Stadium      Glendale   \n",
       "8          17     Eli Manning              Lucas Oil Stadium  Indianapolis   \n",
       "12         14     Eli Manning  University of Phoenix Stadium      Glendale   \n",
       "15         21    Deion Branch                 Alltel Stadium  Jacksonville   \n",
       "16         29       Tom Brady                Reliant Stadium       Houston   \n",
       "18         17       Tom Brady            Louisiana Superdome   New Orleans   \n",
       "\n",
       "        state  \n",
       "1     Georgia  \n",
       "2   Minnesota  \n",
       "3       Texas  \n",
       "5     Arizona  \n",
       "8     Indiana  \n",
       "12    Arizona  \n",
       "15    Florida  \n",
       "16      Texas  \n",
       "18  Louisiana  "
      ]
     },
     "execution_count": 17,
     "metadata": {},
     "output_type": "execute_result"
    }
   ],
   "source": [
    "sb_data[(sb_data['date'] > brady_debut) & \n",
    "        ((sb_data['winner'] == 'New England Patriots') | (sb_data['loser'] == 'New England Patriots'))]"
   ]
  },
  {
   "cell_type": "code",
   "execution_count": 18,
   "metadata": {
    "scrolled": true
   },
   "outputs": [
    {
     "data": {
      "text/html": [
       "<div>\n",
       "<style scoped>\n",
       "    .dataframe tbody tr th:only-of-type {\n",
       "        vertical-align: middle;\n",
       "    }\n",
       "\n",
       "    .dataframe tbody tr th {\n",
       "        vertical-align: top;\n",
       "    }\n",
       "\n",
       "    .dataframe thead th {\n",
       "        text-align: right;\n",
       "    }\n",
       "</style>\n",
       "<table border=\"1\" class=\"dataframe\">\n",
       "  <thead>\n",
       "    <tr style=\"text-align: right;\">\n",
       "      <th></th>\n",
       "      <th>winner</th>\n",
       "      <th>loser</th>\n",
       "    </tr>\n",
       "  </thead>\n",
       "  <tbody>\n",
       "    <tr>\n",
       "      <th>0</th>\n",
       "      <td>Kansas City Chiefs</td>\n",
       "      <td>San Francisco 49ers</td>\n",
       "    </tr>\n",
       "    <tr>\n",
       "      <th>1</th>\n",
       "      <td>New England Patriots</td>\n",
       "      <td>Los Angeles Rams</td>\n",
       "    </tr>\n",
       "    <tr>\n",
       "      <th>2</th>\n",
       "      <td>Philadelphia Eagles</td>\n",
       "      <td>New England Patriots</td>\n",
       "    </tr>\n",
       "    <tr>\n",
       "      <th>3</th>\n",
       "      <td>New England Patriots</td>\n",
       "      <td>Atlanta Falcons</td>\n",
       "    </tr>\n",
       "    <tr>\n",
       "      <th>4</th>\n",
       "      <td>Denver Broncos</td>\n",
       "      <td>Carolina Panthers</td>\n",
       "    </tr>\n",
       "    <tr>\n",
       "      <th>5</th>\n",
       "      <td>New England Patriots</td>\n",
       "      <td>Seattle Seahawks</td>\n",
       "    </tr>\n",
       "    <tr>\n",
       "      <th>6</th>\n",
       "      <td>Seattle Seahawks</td>\n",
       "      <td>Denver Broncos</td>\n",
       "    </tr>\n",
       "    <tr>\n",
       "      <th>7</th>\n",
       "      <td>Baltimore Ravens</td>\n",
       "      <td>San Francisco 49ers</td>\n",
       "    </tr>\n",
       "    <tr>\n",
       "      <th>8</th>\n",
       "      <td>New York Giants</td>\n",
       "      <td>New England Patriots</td>\n",
       "    </tr>\n",
       "    <tr>\n",
       "      <th>9</th>\n",
       "      <td>Green Bay Packers</td>\n",
       "      <td>Pittsburgh Steelers</td>\n",
       "    </tr>\n",
       "    <tr>\n",
       "      <th>10</th>\n",
       "      <td>New Orleans Saints</td>\n",
       "      <td>Indianapolis Colts</td>\n",
       "    </tr>\n",
       "    <tr>\n",
       "      <th>11</th>\n",
       "      <td>Pittsburgh Steelers</td>\n",
       "      <td>Arizona Cardinals</td>\n",
       "    </tr>\n",
       "    <tr>\n",
       "      <th>12</th>\n",
       "      <td>New York Giants</td>\n",
       "      <td>New England Patriots</td>\n",
       "    </tr>\n",
       "    <tr>\n",
       "      <th>13</th>\n",
       "      <td>Indianapolis Colts</td>\n",
       "      <td>Chicago Bears</td>\n",
       "    </tr>\n",
       "    <tr>\n",
       "      <th>14</th>\n",
       "      <td>Pittsburgh Steelers</td>\n",
       "      <td>Seattle Seahawks</td>\n",
       "    </tr>\n",
       "    <tr>\n",
       "      <th>15</th>\n",
       "      <td>New England Patriots</td>\n",
       "      <td>Philadelphia Eagles</td>\n",
       "    </tr>\n",
       "    <tr>\n",
       "      <th>16</th>\n",
       "      <td>New England Patriots</td>\n",
       "      <td>Carolina Panthers</td>\n",
       "    </tr>\n",
       "    <tr>\n",
       "      <th>17</th>\n",
       "      <td>Tampa Bay Buccaneers</td>\n",
       "      <td>Oakland Raiders</td>\n",
       "    </tr>\n",
       "    <tr>\n",
       "      <th>18</th>\n",
       "      <td>New England Patriots</td>\n",
       "      <td>St. Louis Rams</td>\n",
       "    </tr>\n",
       "    <tr>\n",
       "      <th>19</th>\n",
       "      <td>Baltimore Ravens</td>\n",
       "      <td>New York Giants</td>\n",
       "    </tr>\n",
       "  </tbody>\n",
       "</table>\n",
       "</div>"
      ],
      "text/plain": [
       "                  winner                 loser\n",
       "0     Kansas City Chiefs   San Francisco 49ers\n",
       "1   New England Patriots      Los Angeles Rams\n",
       "2    Philadelphia Eagles  New England Patriots\n",
       "3   New England Patriots       Atlanta Falcons\n",
       "4         Denver Broncos     Carolina Panthers\n",
       "5   New England Patriots      Seattle Seahawks\n",
       "6       Seattle Seahawks        Denver Broncos\n",
       "7       Baltimore Ravens   San Francisco 49ers\n",
       "8        New York Giants  New England Patriots\n",
       "9      Green Bay Packers   Pittsburgh Steelers\n",
       "10    New Orleans Saints    Indianapolis Colts\n",
       "11   Pittsburgh Steelers     Arizona Cardinals\n",
       "12       New York Giants  New England Patriots\n",
       "13    Indianapolis Colts         Chicago Bears\n",
       "14   Pittsburgh Steelers      Seattle Seahawks\n",
       "15  New England Patriots   Philadelphia Eagles\n",
       "16  New England Patriots     Carolina Panthers\n",
       "17  Tampa Bay Buccaneers       Oakland Raiders\n",
       "18  New England Patriots        St. Louis Rams\n",
       "19      Baltimore Ravens       New York Giants"
      ]
     },
     "execution_count": 18,
     "metadata": {},
     "output_type": "execute_result"
    }
   ],
   "source": [
    "sb_data[(sb_data['date'] > brady_debut)][['winner','loser']]"
   ]
  },
  {
   "cell_type": "code",
   "execution_count": 19,
   "metadata": {
    "scrolled": true
   },
   "outputs": [
    {
     "data": {
      "text/plain": [
       "[('New England Patriots', 9),\n",
       " ('Seattle Seahawks', 3),\n",
       " ('New York Giants', 3),\n",
       " ('Pittsburgh Steelers', 3),\n",
       " ('Philadelphia Eagles', 2),\n",
       " ('Denver Broncos', 2),\n",
       " ('Baltimore Ravens', 2),\n",
       " ('Indianapolis Colts', 2),\n",
       " ('San Francisco 49ers', 2),\n",
       " ('Carolina Panthers', 2),\n",
       " ('Kansas City Chiefs', 1),\n",
       " ('Green Bay Packers', 1),\n",
       " ('New Orleans Saints', 1),\n",
       " ('Tampa Bay Buccaneers', 1),\n",
       " ('Los Angeles Rams', 1),\n",
       " ('Atlanta Falcons', 1),\n",
       " ('Arizona Cardinals', 1),\n",
       " ('Chicago Bears', 1),\n",
       " ('Oakland Raiders', 1),\n",
       " ('St. Louis Rams', 1)]"
      ]
     },
     "execution_count": 19,
     "metadata": {},
     "output_type": "execute_result"
    }
   ],
   "source": [
    "super_bowl_apps_2001 = {}\n",
    "for x in sb_data[(sb_data['date'] > brady_debut)]['winner']:\n",
    "    if x in super_bowl_apps_2001:\n",
    "        super_bowl_apps_2001[x] += 1\n",
    "    else: \n",
    "        super_bowl_apps_2001[x] = 1\n",
    "for x in sb_data[(sb_data['date'] > brady_debut)]['loser']:\n",
    "    if x in super_bowl_apps_2001:\n",
    "        super_bowl_apps_2001[x] += 1\n",
    "    else: \n",
    "        super_bowl_apps_2001[x] = 1\n",
    "sorted(super_bowl_apps_2001.items(), key = lambda apps: apps[1], reverse=True)"
   ]
  },
  {
   "cell_type": "markdown",
   "metadata": {},
   "source": [
    "Since 2001, the Patriots have appeared in the Super Bowl three times as often as the next closest teams. Once again, as a Steelers fan it pains me to say it, but the data doesn't lie, the Patriots have been a dominant force in the NFL with Tom Brady as their quarterback."
   ]
  },
  {
   "cell_type": "markdown",
   "metadata": {},
   "source": [
    "## Super Bowls by Location\n",
    "\n",
    "The Super Bowl is usually played during the month of February.  Because of this, the Super Bowl is most often held in either a warm climate, or in a stadium that has a dome (indoors, climate controlled) so that weather does not have a big impact on the game.\n",
    "\n",
    "Let's take a look at the most common states and cities for the Super Bowl to be played in."
   ]
  },
  {
   "cell_type": "code",
   "execution_count": 20,
   "metadata": {
    "scrolled": false
   },
   "outputs": [
    {
     "data": {
      "text/plain": [
       "Florida       16\n",
       "California    12\n",
       "Louisiana     10\n",
       "Texas          4\n",
       "Arizona        3\n",
       "Georgia        3\n",
       "Minnesota      2\n",
       "Michigan       2\n",
       "New Jersey     1\n",
       "Indiana        1\n",
       "Name: state, dtype: int64"
      ]
     },
     "execution_count": 20,
     "metadata": {},
     "output_type": "execute_result"
    }
   ],
   "source": [
    "sb_data['state'].value_counts()"
   ]
  },
  {
   "cell_type": "code",
   "execution_count": 21,
   "metadata": {},
   "outputs": [
    {
     "data": {
      "text/plain": [
       "<matplotlib.axes._subplots.AxesSubplot at 0x1ab6ce8f080>"
      ]
     },
     "execution_count": 21,
     "metadata": {},
     "output_type": "execute_result"
    },
    {
     "data": {
      "image/png": "[encoded data removed]",
      "text/plain": [
       "<Figure size 432x288 with 1 Axes>"
      ]
     },
     "metadata": {},
     "output_type": "display_data"
    }
   ],
   "source": [
    "sb_data['state'].value_counts().plot(kind='pie')"
   ]
  },
  {
   "cell_type": "code",
   "execution_count": 22,
   "metadata": {
    "scrolled": true
   },
   "outputs": [
    {
     "data": {
      "text/plain": [
       "New Orleans        10\n",
       "Miami Gardens       6\n",
       "Pasadena            5\n",
       "Miami               5\n",
       "Tampa               4\n",
       "Atlanta             3\n",
       "Houston             3\n",
       "San Diego           3\n",
       "Los Angeles         2\n",
       "Minneapolis         2\n",
       "Glendale            2\n",
       "Palo Alto           1\n",
       "Pontiac             1\n",
       "Tempe               1\n",
       "East Rutherford     1\n",
       "Indianapolis        1\n",
       "Detroit             1\n",
       "Jacksonville        1\n",
       "Santa Clara         1\n",
       "Arlington           1\n",
       "Name: city, dtype: int64"
      ]
     },
     "execution_count": 22,
     "metadata": {},
     "output_type": "execute_result"
    }
   ],
   "source": [
    "sb_data['city'].value_counts()"
   ]
  },
  {
   "cell_type": "markdown",
   "metadata": {},
   "source": [
    "Most Super Bowls have been played in either Florida, California, or Louisiana.  This aligns with what I said earlier about the game mostly being played in a warmer climate. I find it interesting that New Orleans has hosted the Super Bowl 10 different times, which accounts for almost 20% of all Super Bowls played.  It is also interesting to note that there is an NFL team in New Orleans.  Let's find out if they have ever played a Super Bowl in their hometown."
   ]
  },
  {
   "cell_type": "code",
   "execution_count": 23,
   "metadata": {
    "scrolled": true
   },
   "outputs": [
    {
     "data": {
      "text/html": [
       "<div>\n",
       "<style scoped>\n",
       "    .dataframe tbody tr th:only-of-type {\n",
       "        vertical-align: middle;\n",
       "    }\n",
       "\n",
       "    .dataframe tbody tr th {\n",
       "        vertical-align: top;\n",
       "    }\n",
       "\n",
       "    .dataframe thead th {\n",
       "        text-align: right;\n",
       "    }\n",
       "</style>\n",
       "<table border=\"1\" class=\"dataframe\">\n",
       "  <thead>\n",
       "    <tr style=\"text-align: right;\">\n",
       "      <th></th>\n",
       "      <th>date</th>\n",
       "      <th>sb_num</th>\n",
       "      <th>winner</th>\n",
       "      <th>winner_pts</th>\n",
       "      <th>loser</th>\n",
       "      <th>loser_pts</th>\n",
       "      <th>mvp</th>\n",
       "      <th>stadium</th>\n",
       "      <th>city</th>\n",
       "      <th>state</th>\n",
       "    </tr>\n",
       "  </thead>\n",
       "  <tbody>\n",
       "  </tbody>\n",
       "</table>\n",
       "</div>"
      ],
      "text/plain": [
       "Empty DataFrame\n",
       "Columns: [date, sb_num, winner, winner_pts, loser, loser_pts, mvp, stadium, city, state]\n",
       "Index: []"
      ]
     },
     "execution_count": 23,
     "metadata": {},
     "output_type": "execute_result"
    }
   ],
   "source": [
    "sb_data[(sb_data['city'] == 'New Orleans') & ((sb_data['winner'] == 'New Orleans Saints') |\n",
    "                                              (sb_data['loser'] == 'New Orleans Saints'))]"
   ]
  },
  {
   "cell_type": "markdown",
   "metadata": {},
   "source": [
    "Looks like they haven't.  But this leads me to wonder if any NFL team has played a Super Bowl in their home city.  Let's try to investigate."
   ]
  },
  {
   "cell_type": "code",
   "execution_count": 24,
   "metadata": {},
   "outputs": [],
   "source": [
    "sb_city_split = sb_data.copy()"
   ]
  },
  {
   "cell_type": "code",
   "execution_count": 25,
   "metadata": {},
   "outputs": [],
   "source": [
    "sb_city_split['winner'] = sb_city_split['winner'].str.split()\n",
    "sb_city_split['win_team'] = sb_city_split['winner'].str[-1]\n",
    "sb_city_split['win_city'] = sb_city_split['winner'].str[:-1]\n",
    "sb_city_split['win_city'] = sb_city_split['win_city'].str.join(sep = ' ')"
   ]
  },
  {
   "cell_type": "code",
   "execution_count": 26,
   "metadata": {},
   "outputs": [],
   "source": [
    "sb_city_split['loser'] = sb_city_split['loser'].str.split()\n",
    "sb_city_split['lose_team'] = sb_city_split['loser'].str[-1]\n",
    "sb_city_split['lose_city'] = sb_city_split['loser'].str[:-1]\n",
    "sb_city_split['lose_city'] = sb_city_split['lose_city'].str.join(sep = ' ')"
   ]
  },
  {
   "cell_type": "code",
   "execution_count": 27,
   "metadata": {
    "scrolled": true
   },
   "outputs": [
    {
     "data": {
      "text/html": [
       "<div>\n",
       "<style scoped>\n",
       "    .dataframe tbody tr th:only-of-type {\n",
       "        vertical-align: middle;\n",
       "    }\n",
       "\n",
       "    .dataframe tbody tr th {\n",
       "        vertical-align: top;\n",
       "    }\n",
       "\n",
       "    .dataframe thead th {\n",
       "        text-align: right;\n",
       "    }\n",
       "</style>\n",
       "<table border=\"1\" class=\"dataframe\">\n",
       "  <thead>\n",
       "    <tr style=\"text-align: right;\">\n",
       "      <th></th>\n",
       "      <th>date</th>\n",
       "      <th>sb_num</th>\n",
       "      <th>winner</th>\n",
       "      <th>winner_pts</th>\n",
       "      <th>loser</th>\n",
       "      <th>loser_pts</th>\n",
       "      <th>mvp</th>\n",
       "      <th>stadium</th>\n",
       "      <th>city</th>\n",
       "      <th>state</th>\n",
       "      <th>win_team</th>\n",
       "      <th>win_city</th>\n",
       "      <th>lose_team</th>\n",
       "      <th>lose_city</th>\n",
       "    </tr>\n",
       "  </thead>\n",
       "  <tbody>\n",
       "    <tr>\n",
       "      <th>0</th>\n",
       "      <td>2020-02-02</td>\n",
       "      <td>54</td>\n",
       "      <td>[Kansas, City, Chiefs]</td>\n",
       "      <td>31</td>\n",
       "      <td>[San, Francisco, 49ers]</td>\n",
       "      <td>20</td>\n",
       "      <td>Patrick Mahomes</td>\n",
       "      <td>Hard Rock Stadium</td>\n",
       "      <td>Miami Gardens</td>\n",
       "      <td>Florida</td>\n",
       "      <td>Chiefs</td>\n",
       "      <td>Kansas City</td>\n",
       "      <td>49ers</td>\n",
       "      <td>San Francisco</td>\n",
       "    </tr>\n",
       "    <tr>\n",
       "      <th>1</th>\n",
       "      <td>2019-02-03</td>\n",
       "      <td>53</td>\n",
       "      <td>[New, England, Patriots]</td>\n",
       "      <td>13</td>\n",
       "      <td>[Los, Angeles, Rams]</td>\n",
       "      <td>3</td>\n",
       "      <td>Julian Edelman</td>\n",
       "      <td>Mercedes-Benz Stadium</td>\n",
       "      <td>Atlanta</td>\n",
       "      <td>Georgia</td>\n",
       "      <td>Patriots</td>\n",
       "      <td>New England</td>\n",
       "      <td>Rams</td>\n",
       "      <td>Los Angeles</td>\n",
       "    </tr>\n",
       "    <tr>\n",
       "      <th>2</th>\n",
       "      <td>2018-02-04</td>\n",
       "      <td>52</td>\n",
       "      <td>[Philadelphia, Eagles]</td>\n",
       "      <td>41</td>\n",
       "      <td>[New, England, Patriots]</td>\n",
       "      <td>33</td>\n",
       "      <td>Nick Foles</td>\n",
       "      <td>U.S. Bank Stadium</td>\n",
       "      <td>Minneapolis</td>\n",
       "      <td>Minnesota</td>\n",
       "      <td>Eagles</td>\n",
       "      <td>Philadelphia</td>\n",
       "      <td>Patriots</td>\n",
       "      <td>New England</td>\n",
       "    </tr>\n",
       "    <tr>\n",
       "      <th>3</th>\n",
       "      <td>2017-02-05</td>\n",
       "      <td>51</td>\n",
       "      <td>[New, England, Patriots]</td>\n",
       "      <td>34</td>\n",
       "      <td>[Atlanta, Falcons]</td>\n",
       "      <td>28</td>\n",
       "      <td>Tom Brady</td>\n",
       "      <td>NRG Stadium</td>\n",
       "      <td>Houston</td>\n",
       "      <td>Texas</td>\n",
       "      <td>Patriots</td>\n",
       "      <td>New England</td>\n",
       "      <td>Falcons</td>\n",
       "      <td>Atlanta</td>\n",
       "    </tr>\n",
       "    <tr>\n",
       "      <th>4</th>\n",
       "      <td>2016-02-07</td>\n",
       "      <td>50</td>\n",
       "      <td>[Denver, Broncos]</td>\n",
       "      <td>24</td>\n",
       "      <td>[Carolina, Panthers]</td>\n",
       "      <td>10</td>\n",
       "      <td>Von Miller</td>\n",
       "      <td>Levi's Stadium</td>\n",
       "      <td>Santa Clara</td>\n",
       "      <td>California</td>\n",
       "      <td>Broncos</td>\n",
       "      <td>Denver</td>\n",
       "      <td>Panthers</td>\n",
       "      <td>Carolina</td>\n",
       "    </tr>\n",
       "  </tbody>\n",
       "</table>\n",
       "</div>"
      ],
      "text/plain": [
       "        date  sb_num                    winner  winner_pts  \\\n",
       "0 2020-02-02      54    [Kansas, City, Chiefs]          31   \n",
       "1 2019-02-03      53  [New, England, Patriots]          13   \n",
       "2 2018-02-04      52    [Philadelphia, Eagles]          41   \n",
       "3 2017-02-05      51  [New, England, Patriots]          34   \n",
       "4 2016-02-07      50         [Denver, Broncos]          24   \n",
       "\n",
       "                      loser  loser_pts              mvp  \\\n",
       "0   [San, Francisco, 49ers]         20  Patrick Mahomes   \n",
       "1      [Los, Angeles, Rams]          3   Julian Edelman   \n",
       "2  [New, England, Patriots]         33       Nick Foles   \n",
       "3        [Atlanta, Falcons]         28        Tom Brady   \n",
       "4      [Carolina, Panthers]         10       Von Miller   \n",
       "\n",
       "                 stadium           city       state  win_team      win_city  \\\n",
       "0      Hard Rock Stadium  Miami Gardens     Florida    Chiefs   Kansas City   \n",
       "1  Mercedes-Benz Stadium        Atlanta     Georgia  Patriots   New England   \n",
       "2      U.S. Bank Stadium    Minneapolis   Minnesota    Eagles  Philadelphia   \n",
       "3            NRG Stadium        Houston       Texas  Patriots   New England   \n",
       "4         Levi's Stadium    Santa Clara  California   Broncos        Denver   \n",
       "\n",
       "  lose_team      lose_city  \n",
       "0     49ers  San Francisco  \n",
       "1      Rams    Los Angeles  \n",
       "2  Patriots    New England  \n",
       "3   Falcons        Atlanta  \n",
       "4  Panthers       Carolina  "
      ]
     },
     "execution_count": 27,
     "metadata": {},
     "output_type": "execute_result"
    }
   ],
   "source": [
    "sb_city_split.head()"
   ]
  },
  {
   "cell_type": "code",
   "execution_count": 28,
   "metadata": {
    "scrolled": true
   },
   "outputs": [
    {
     "data": {
      "text/html": [
       "<div>\n",
       "<style scoped>\n",
       "    .dataframe tbody tr th:only-of-type {\n",
       "        vertical-align: middle;\n",
       "    }\n",
       "\n",
       "    .dataframe tbody tr th {\n",
       "        vertical-align: top;\n",
       "    }\n",
       "\n",
       "    .dataframe thead th {\n",
       "        text-align: right;\n",
       "    }\n",
       "</style>\n",
       "<table border=\"1\" class=\"dataframe\">\n",
       "  <thead>\n",
       "    <tr style=\"text-align: right;\">\n",
       "      <th></th>\n",
       "      <th>date</th>\n",
       "      <th>sb_num</th>\n",
       "      <th>winner</th>\n",
       "      <th>winner_pts</th>\n",
       "      <th>loser</th>\n",
       "      <th>loser_pts</th>\n",
       "      <th>mvp</th>\n",
       "      <th>stadium</th>\n",
       "      <th>city</th>\n",
       "      <th>state</th>\n",
       "      <th>win_team</th>\n",
       "      <th>win_city</th>\n",
       "      <th>lose_team</th>\n",
       "      <th>lose_city</th>\n",
       "    </tr>\n",
       "  </thead>\n",
       "  <tbody>\n",
       "  </tbody>\n",
       "</table>\n",
       "</div>"
      ],
      "text/plain": [
       "Empty DataFrame\n",
       "Columns: [date, sb_num, winner, winner_pts, loser, loser_pts, mvp, stadium, city, state, win_team, win_city, lose_team, lose_city]\n",
       "Index: []"
      ]
     },
     "execution_count": 28,
     "metadata": {},
     "output_type": "execute_result"
    }
   ],
   "source": [
    "sb_city_split[(sb_city_split['win_city'] == sb_city_split['city']) | \n",
    "             (sb_city_split['lose_city'] == sb_city_split['city'])]"
   ]
  },
  {
   "cell_type": "markdown",
   "metadata": {},
   "source": [
    "No NFL teams have played in a Super Bowl in their home city."
   ]
  },
  {
   "cell_type": "markdown",
   "metadata": {},
   "source": [
    "The 2021 Super Bowl (Super Bowl 55) will be held in Tampa, Florida, the 17th time it has been held in Florida.  Let's take a look at who has won the most Super Bowls in the state of Florida."
   ]
  },
  {
   "cell_type": "code",
   "execution_count": 29,
   "metadata": {
    "scrolled": true
   },
   "outputs": [
    {
     "data": {
      "text/plain": [
       "Pittsburgh Steelers    3\n",
       "San Francisco 49ers    2\n",
       "Green Bay Packers      1\n",
       "Baltimore Colts        1\n",
       "Kansas City Chiefs     1\n",
       "Name: winner, dtype: int64"
      ]
     },
     "execution_count": 29,
     "metadata": {},
     "output_type": "execute_result"
    }
   ],
   "source": [
    "sb_data[sb_data['state'] == 'Florida']['winner'].value_counts().head()"
   ]
  },
  {
   "cell_type": "code",
   "execution_count": 30,
   "metadata": {
    "scrolled": true
   },
   "outputs": [
    {
     "data": {
      "text/plain": [
       "Los Angeles Raiders    1\n",
       "Pittsburgh Steelers    1\n",
       "New York Giants        1\n",
       "Baltimore Ravens       1\n",
       "Name: winner, dtype: int64"
      ]
     },
     "execution_count": 30,
     "metadata": {},
     "output_type": "execute_result"
    }
   ],
   "source": [
    "sb_data[sb_data['city'] == 'Tampa']['winner'].value_counts().head()"
   ]
  },
  {
   "cell_type": "markdown",
   "metadata": {},
   "source": [
    "## Biggest Losers"
   ]
  },
  {
   "cell_type": "markdown",
   "metadata": {},
   "source": [
    "Up until this point, I have focused on the winners of the Super Bowl, but now I want to take a look at different metrics revolving around the losing team of each Super Bowl.\n",
    "\n",
    "The first thing I want to take a look at are teams that have never won a Super Bowl or have never won a Super Bowl. But our current dataset only includes the nfl teams that have played in a Super Bowl, so I need to import another one that includes all NFL teams."
   ]
  },
  {
   "cell_type": "code",
   "execution_count": 57,
   "metadata": {
    "scrolled": true
   },
   "outputs": [
    {
     "data": {
      "text/html": [
       "<div>\n",
       "<style scoped>\n",
       "    .dataframe tbody tr th:only-of-type {\n",
       "        vertical-align: middle;\n",
       "    }\n",
       "\n",
       "    .dataframe tbody tr th {\n",
       "        vertical-align: top;\n",
       "    }\n",
       "\n",
       "    .dataframe thead th {\n",
       "        text-align: right;\n",
       "    }\n",
       "</style>\n",
       "<table border=\"1\" class=\"dataframe\">\n",
       "  <thead>\n",
       "    <tr style=\"text-align: right;\">\n",
       "      <th></th>\n",
       "      <th>Name</th>\n",
       "      <th>Abbreviation</th>\n",
       "      <th>Conference</th>\n",
       "      <th>Division</th>\n",
       "    </tr>\n",
       "    <tr>\n",
       "      <th>ID</th>\n",
       "      <th></th>\n",
       "      <th></th>\n",
       "      <th></th>\n",
       "      <th></th>\n",
       "    </tr>\n",
       "  </thead>\n",
       "  <tbody>\n",
       "    <tr>\n",
       "      <th>1</th>\n",
       "      <td>Arizona Cardinals</td>\n",
       "      <td>ARI</td>\n",
       "      <td>NFC</td>\n",
       "      <td>West</td>\n",
       "    </tr>\n",
       "    <tr>\n",
       "      <th>2</th>\n",
       "      <td>Atlanta Falcons</td>\n",
       "      <td>ATL</td>\n",
       "      <td>NFC</td>\n",
       "      <td>South</td>\n",
       "    </tr>\n",
       "    <tr>\n",
       "      <th>3</th>\n",
       "      <td>Baltimore Ravens</td>\n",
       "      <td>BAL</td>\n",
       "      <td>AFC</td>\n",
       "      <td>North</td>\n",
       "    </tr>\n",
       "    <tr>\n",
       "      <th>4</th>\n",
       "      <td>Buffalo Bills</td>\n",
       "      <td>BUF</td>\n",
       "      <td>AFC</td>\n",
       "      <td>East</td>\n",
       "    </tr>\n",
       "    <tr>\n",
       "      <th>5</th>\n",
       "      <td>Carolina Panthers</td>\n",
       "      <td>CAR</td>\n",
       "      <td>NFC</td>\n",
       "      <td>South</td>\n",
       "    </tr>\n",
       "    <tr>\n",
       "      <th>6</th>\n",
       "      <td>Chicago Bears</td>\n",
       "      <td>CHI</td>\n",
       "      <td>NFC</td>\n",
       "      <td>North</td>\n",
       "    </tr>\n",
       "    <tr>\n",
       "      <th>7</th>\n",
       "      <td>Cincinnati Bengals</td>\n",
       "      <td>CIN</td>\n",
       "      <td>AFC</td>\n",
       "      <td>North</td>\n",
       "    </tr>\n",
       "    <tr>\n",
       "      <th>8</th>\n",
       "      <td>Cleveland Browns</td>\n",
       "      <td>CLE</td>\n",
       "      <td>AFC</td>\n",
       "      <td>North</td>\n",
       "    </tr>\n",
       "    <tr>\n",
       "      <th>9</th>\n",
       "      <td>Dallas Cowboys</td>\n",
       "      <td>DAL</td>\n",
       "      <td>NFC</td>\n",
       "      <td>East</td>\n",
       "    </tr>\n",
       "    <tr>\n",
       "      <th>10</th>\n",
       "      <td>Denver Broncos</td>\n",
       "      <td>DEN</td>\n",
       "      <td>AFC</td>\n",
       "      <td>West</td>\n",
       "    </tr>\n",
       "    <tr>\n",
       "      <th>11</th>\n",
       "      <td>Detroit Lions</td>\n",
       "      <td>DET</td>\n",
       "      <td>NFC</td>\n",
       "      <td>North</td>\n",
       "    </tr>\n",
       "    <tr>\n",
       "      <th>12</th>\n",
       "      <td>Green Bay Packers</td>\n",
       "      <td>GB</td>\n",
       "      <td>NFC</td>\n",
       "      <td>North</td>\n",
       "    </tr>\n",
       "    <tr>\n",
       "      <th>13</th>\n",
       "      <td>Houston Texans</td>\n",
       "      <td>HOU</td>\n",
       "      <td>AFC</td>\n",
       "      <td>South</td>\n",
       "    </tr>\n",
       "    <tr>\n",
       "      <th>14</th>\n",
       "      <td>Indianapolis Colts</td>\n",
       "      <td>IND</td>\n",
       "      <td>AFC</td>\n",
       "      <td>South</td>\n",
       "    </tr>\n",
       "    <tr>\n",
       "      <th>15</th>\n",
       "      <td>Jacksonville Jaguars</td>\n",
       "      <td>JAX</td>\n",
       "      <td>AFC</td>\n",
       "      <td>South</td>\n",
       "    </tr>\n",
       "    <tr>\n",
       "      <th>16</th>\n",
       "      <td>Kansas City Chiefs</td>\n",
       "      <td>KC</td>\n",
       "      <td>AFC</td>\n",
       "      <td>West</td>\n",
       "    </tr>\n",
       "    <tr>\n",
       "      <th>17</th>\n",
       "      <td>Miami Dolphins</td>\n",
       "      <td>MIA</td>\n",
       "      <td>AFC</td>\n",
       "      <td>East</td>\n",
       "    </tr>\n",
       "    <tr>\n",
       "      <th>18</th>\n",
       "      <td>Minnesota Vikings</td>\n",
       "      <td>MIN</td>\n",
       "      <td>NFC</td>\n",
       "      <td>North</td>\n",
       "    </tr>\n",
       "    <tr>\n",
       "      <th>19</th>\n",
       "      <td>New England Patriots</td>\n",
       "      <td>NE</td>\n",
       "      <td>AFC</td>\n",
       "      <td>East</td>\n",
       "    </tr>\n",
       "    <tr>\n",
       "      <th>20</th>\n",
       "      <td>New Orleans Saints</td>\n",
       "      <td>NO</td>\n",
       "      <td>NFC</td>\n",
       "      <td>South</td>\n",
       "    </tr>\n",
       "    <tr>\n",
       "      <th>21</th>\n",
       "      <td>New York Giants</td>\n",
       "      <td>NYG</td>\n",
       "      <td>NFC</td>\n",
       "      <td>East</td>\n",
       "    </tr>\n",
       "    <tr>\n",
       "      <th>22</th>\n",
       "      <td>New York Jets</td>\n",
       "      <td>NYJ</td>\n",
       "      <td>AFC</td>\n",
       "      <td>East</td>\n",
       "    </tr>\n",
       "    <tr>\n",
       "      <th>23</th>\n",
       "      <td>Oakland Raiders</td>\n",
       "      <td>OAK</td>\n",
       "      <td>AFC</td>\n",
       "      <td>West</td>\n",
       "    </tr>\n",
       "    <tr>\n",
       "      <th>24</th>\n",
       "      <td>Philadelphia Eagles</td>\n",
       "      <td>PHI</td>\n",
       "      <td>NFC</td>\n",
       "      <td>East</td>\n",
       "    </tr>\n",
       "    <tr>\n",
       "      <th>25</th>\n",
       "      <td>Pittsburgh Steelers</td>\n",
       "      <td>PIT</td>\n",
       "      <td>AFC</td>\n",
       "      <td>North</td>\n",
       "    </tr>\n",
       "    <tr>\n",
       "      <th>26</th>\n",
       "      <td>San Diego Chargers</td>\n",
       "      <td>SD</td>\n",
       "      <td>AFC</td>\n",
       "      <td>West</td>\n",
       "    </tr>\n",
       "    <tr>\n",
       "      <th>27</th>\n",
       "      <td>San Francisco 49ers</td>\n",
       "      <td>SF</td>\n",
       "      <td>NFC</td>\n",
       "      <td>West</td>\n",
       "    </tr>\n",
       "    <tr>\n",
       "      <th>28</th>\n",
       "      <td>Seattle Seahawks</td>\n",
       "      <td>SEA</td>\n",
       "      <td>NFC</td>\n",
       "      <td>West</td>\n",
       "    </tr>\n",
       "    <tr>\n",
       "      <th>29</th>\n",
       "      <td>St. Louis Rams</td>\n",
       "      <td>STL</td>\n",
       "      <td>NFC</td>\n",
       "      <td>West</td>\n",
       "    </tr>\n",
       "    <tr>\n",
       "      <th>30</th>\n",
       "      <td>Tampa Bay Buccaneers</td>\n",
       "      <td>TB</td>\n",
       "      <td>NFC</td>\n",
       "      <td>South</td>\n",
       "    </tr>\n",
       "    <tr>\n",
       "      <th>31</th>\n",
       "      <td>Tennessee Titans</td>\n",
       "      <td>TEN</td>\n",
       "      <td>AFC</td>\n",
       "      <td>South</td>\n",
       "    </tr>\n",
       "    <tr>\n",
       "      <th>32</th>\n",
       "      <td>Washington Redskins</td>\n",
       "      <td>WAS</td>\n",
       "      <td>NFC</td>\n",
       "      <td>East</td>\n",
       "    </tr>\n",
       "  </tbody>\n",
       "</table>\n",
       "</div>"
      ],
      "text/plain": [
       "                    Name Abbreviation Conference Division\n",
       "ID                                                       \n",
       "1      Arizona Cardinals          ARI        NFC     West\n",
       "2        Atlanta Falcons          ATL        NFC    South\n",
       "3       Baltimore Ravens          BAL        AFC    North\n",
       "4          Buffalo Bills          BUF        AFC     East\n",
       "5      Carolina Panthers          CAR        NFC    South\n",
       "6          Chicago Bears          CHI        NFC    North\n",
       "7     Cincinnati Bengals          CIN        AFC    North\n",
       "8       Cleveland Browns          CLE        AFC    North\n",
       "9         Dallas Cowboys          DAL        NFC     East\n",
       "10        Denver Broncos          DEN        AFC     West\n",
       "11         Detroit Lions          DET        NFC    North\n",
       "12     Green Bay Packers           GB        NFC    North\n",
       "13        Houston Texans          HOU        AFC    South\n",
       "14    Indianapolis Colts          IND        AFC    South\n",
       "15  Jacksonville Jaguars          JAX        AFC    South\n",
       "16    Kansas City Chiefs           KC        AFC     West\n",
       "17        Miami Dolphins          MIA        AFC     East\n",
       "18     Minnesota Vikings          MIN        NFC    North\n",
       "19  New England Patriots           NE        AFC     East\n",
       "20    New Orleans Saints           NO        NFC    South\n",
       "21       New York Giants          NYG        NFC     East\n",
       "22         New York Jets          NYJ        AFC     East\n",
       "23       Oakland Raiders          OAK        AFC     West\n",
       "24   Philadelphia Eagles          PHI        NFC     East\n",
       "25   Pittsburgh Steelers          PIT        AFC    North\n",
       "26    San Diego Chargers           SD        AFC     West\n",
       "27   San Francisco 49ers           SF        NFC     West\n",
       "28      Seattle Seahawks          SEA        NFC     West\n",
       "29        St. Louis Rams          STL        NFC     West\n",
       "30  Tampa Bay Buccaneers           TB        NFC    South\n",
       "31      Tennessee Titans          TEN        AFC    South\n",
       "32   Washington Redskins          WAS        NFC     East"
      ]
     },
     "execution_count": 57,
     "metadata": {},
     "output_type": "execute_result"
    }
   ],
   "source": [
    "teams = pd.read_csv('nfl_teams/nfl_teams.csv', index_col = 'ID')\n",
    "teams['Name'] = teams['Name'].str.replace('NY', 'New York')\n",
    "teams"
   ]
  },
  {
   "cell_type": "code",
   "execution_count": 67,
   "metadata": {},
   "outputs": [],
   "source": [
    "team_list = teams['Name'].to_list()\n",
    "winner_list = sb_data['winner'].to_list()\n",
    "loser_list = sb_data['loser'].to_list()"
   ]
  },
  {
   "cell_type": "code",
   "execution_count": 66,
   "metadata": {
    "scrolled": true
   },
   "outputs": [
    {
     "data": {
      "text/plain": [
       "['Arizona Cardinals',\n",
       " 'Atlanta Falcons',\n",
       " 'Buffalo Bills',\n",
       " 'Carolina Panthers',\n",
       " 'Cincinnati Bengals',\n",
       " 'Cleveland Browns',\n",
       " 'Detroit Lions',\n",
       " 'Houston Texans',\n",
       " 'Jacksonville Jaguars',\n",
       " 'Minnesota Vikings',\n",
       " 'San Diego Chargers',\n",
       " 'Tennessee Titans']"
      ]
     },
     "execution_count": 66,
     "metadata": {},
     "output_type": "execute_result"
    }
   ],
   "source": [
    "have_not_won = []\n",
    "for x in team_list:\n",
    "    if x in winner_list:\n",
    "        pass\n",
    "    else:\n",
    "        have_not_won.append(x)\n",
    "have_not_won"
   ]
  },
  {
   "cell_type": "markdown",
   "metadata": {},
   "source": [
    "These 12 teams have never won a Super Bowl.  This is an interesting statistic because the Patriots and Steelers have combined for 12 Super Bowls."
   ]
  },
  {
   "cell_type": "code",
   "execution_count": 109,
   "metadata": {
    "scrolled": true
   },
   "outputs": [
    {
     "data": {
      "text/plain": [
       "Buffalo Bills         4\n",
       "Minnesota Vikings     4\n",
       "Carolina Panthers     2\n",
       "Atlanta Falcons       2\n",
       "Cincinnati Bengals    2\n",
       "San Diego Chargers    1\n",
       "Arizona Cardinals     1\n",
       "Tennessee Titans      1\n",
       "Name: loser, dtype: int64"
      ]
     },
     "execution_count": 109,
     "metadata": {},
     "output_type": "execute_result"
    }
   ],
   "source": [
    "sb_data[sb_data['loser'].isin(have_not_won)]['loser'].value_counts()"
   ]
  },
  {
   "cell_type": "markdown",
   "metadata": {},
   "source": [
    "The Bills and Vikings have lost four Super Bowls each but have never won one.  And if you take a look at the table below, the Bills actually lost four Super Bowls in a row!"
   ]
  },
  {
   "cell_type": "code",
   "execution_count": 110,
   "metadata": {},
   "outputs": [
    {
     "data": {
      "text/html": [
       "<div>\n",
       "<style scoped>\n",
       "    .dataframe tbody tr th:only-of-type {\n",
       "        vertical-align: middle;\n",
       "    }\n",
       "\n",
       "    .dataframe tbody tr th {\n",
       "        vertical-align: top;\n",
       "    }\n",
       "\n",
       "    .dataframe thead th {\n",
       "        text-align: right;\n",
       "    }\n",
       "</style>\n",
       "<table border=\"1\" class=\"dataframe\">\n",
       "  <thead>\n",
       "    <tr style=\"text-align: right;\">\n",
       "      <th></th>\n",
       "      <th>date</th>\n",
       "      <th>sb_num</th>\n",
       "      <th>winner</th>\n",
       "      <th>winner_pts</th>\n",
       "      <th>loser</th>\n",
       "      <th>loser_pts</th>\n",
       "      <th>mvp</th>\n",
       "      <th>stadium</th>\n",
       "      <th>city</th>\n",
       "      <th>state</th>\n",
       "      <th>diff</th>\n",
       "    </tr>\n",
       "  </thead>\n",
       "  <tbody>\n",
       "    <tr>\n",
       "      <th>26</th>\n",
       "      <td>1994-01-30</td>\n",
       "      <td>28</td>\n",
       "      <td>Dallas Cowboys</td>\n",
       "      <td>30</td>\n",
       "      <td>Buffalo Bills</td>\n",
       "      <td>13</td>\n",
       "      <td>Emmitt Smith</td>\n",
       "      <td>Georgia Dome</td>\n",
       "      <td>Atlanta</td>\n",
       "      <td>Georgia</td>\n",
       "      <td>17</td>\n",
       "    </tr>\n",
       "    <tr>\n",
       "      <th>27</th>\n",
       "      <td>1993-01-31</td>\n",
       "      <td>27</td>\n",
       "      <td>Dallas Cowboys</td>\n",
       "      <td>52</td>\n",
       "      <td>Buffalo Bills</td>\n",
       "      <td>17</td>\n",
       "      <td>Troy Aikman</td>\n",
       "      <td>Rose Bowl</td>\n",
       "      <td>Pasadena</td>\n",
       "      <td>California</td>\n",
       "      <td>35</td>\n",
       "    </tr>\n",
       "    <tr>\n",
       "      <th>28</th>\n",
       "      <td>1992-01-26</td>\n",
       "      <td>26</td>\n",
       "      <td>Washington Redskins</td>\n",
       "      <td>37</td>\n",
       "      <td>Buffalo Bills</td>\n",
       "      <td>24</td>\n",
       "      <td>Mark Rypien</td>\n",
       "      <td>Metrodome</td>\n",
       "      <td>Minneapolis</td>\n",
       "      <td>Minnesota</td>\n",
       "      <td>13</td>\n",
       "    </tr>\n",
       "    <tr>\n",
       "      <th>29</th>\n",
       "      <td>1991-01-27</td>\n",
       "      <td>25</td>\n",
       "      <td>New York Giants</td>\n",
       "      <td>20</td>\n",
       "      <td>Buffalo Bills</td>\n",
       "      <td>19</td>\n",
       "      <td>Ottis Anderson</td>\n",
       "      <td>Tampa Stadium</td>\n",
       "      <td>Tampa</td>\n",
       "      <td>Florida</td>\n",
       "      <td>1</td>\n",
       "    </tr>\n",
       "  </tbody>\n",
       "</table>\n",
       "</div>"
      ],
      "text/plain": [
       "         date  sb_num               winner  winner_pts          loser  \\\n",
       "26 1994-01-30      28       Dallas Cowboys          30  Buffalo Bills   \n",
       "27 1993-01-31      27       Dallas Cowboys          52  Buffalo Bills   \n",
       "28 1992-01-26      26  Washington Redskins          37  Buffalo Bills   \n",
       "29 1991-01-27      25      New York Giants          20  Buffalo Bills   \n",
       "\n",
       "    loser_pts             mvp        stadium         city       state  diff  \n",
       "26         13    Emmitt Smith   Georgia Dome      Atlanta     Georgia    17  \n",
       "27         17     Troy Aikman      Rose Bowl     Pasadena  California    35  \n",
       "28         24     Mark Rypien      Metrodome  Minneapolis   Minnesota    13  \n",
       "29         19  Ottis Anderson  Tampa Stadium        Tampa     Florida     1  "
      ]
     },
     "execution_count": 110,
     "metadata": {},
     "output_type": "execute_result"
    }
   ],
   "source": [
    "sb_data[sb_data['loser'] == 'Buffalo Bills']"
   ]
  },
  {
   "cell_type": "code",
   "execution_count": 69,
   "metadata": {
    "scrolled": false
   },
   "outputs": [
    {
     "data": {
      "text/plain": [
       "['Cleveland Browns', 'Detroit Lions', 'Houston Texans', 'Jacksonville Jaguars']"
      ]
     },
     "execution_count": 69,
     "metadata": {},
     "output_type": "execute_result"
    }
   ],
   "source": [
    "have_not_appeared = []\n",
    "for x in team_list:\n",
    "    if x in loser_list:\n",
    "        pass\n",
    "    elif x in winner_list:\n",
    "        pass\n",
    "    else:\n",
    "        have_not_appeared.append(x)\n",
    "have_not_appeared"
   ]
  },
  {
   "cell_type": "markdown",
   "metadata": {},
   "source": [
    "These four teams have never appeared in the Super Bowl.  With more data, further analysis could be done on just how close each of these have gotten, but for the purposes of this project, all we need to know is that they have never made it there."
   ]
  },
  {
   "cell_type": "markdown",
   "metadata": {},
   "source": [
    "## Least Points Scored"
   ]
  },
  {
   "cell_type": "code",
   "execution_count": 72,
   "metadata": {
    "scrolled": true
   },
   "outputs": [
    {
     "data": {
      "text/html": [
       "<div>\n",
       "<style scoped>\n",
       "    .dataframe tbody tr th:only-of-type {\n",
       "        vertical-align: middle;\n",
       "    }\n",
       "\n",
       "    .dataframe tbody tr th {\n",
       "        vertical-align: top;\n",
       "    }\n",
       "\n",
       "    .dataframe thead th {\n",
       "        text-align: right;\n",
       "    }\n",
       "</style>\n",
       "<table border=\"1\" class=\"dataframe\">\n",
       "  <thead>\n",
       "    <tr style=\"text-align: right;\">\n",
       "      <th></th>\n",
       "      <th>sb_num</th>\n",
       "      <th>loser</th>\n",
       "      <th>loser_pts</th>\n",
       "    </tr>\n",
       "  </thead>\n",
       "  <tbody>\n",
       "    <tr>\n",
       "      <th>1</th>\n",
       "      <td>53</td>\n",
       "      <td>Los Angeles Rams</td>\n",
       "      <td>3</td>\n",
       "    </tr>\n",
       "    <tr>\n",
       "      <th>48</th>\n",
       "      <td>6</td>\n",
       "      <td>Miami Dolphins</td>\n",
       "      <td>3</td>\n",
       "    </tr>\n",
       "    <tr>\n",
       "      <th>45</th>\n",
       "      <td>9</td>\n",
       "      <td>Minnesota Vikings</td>\n",
       "      <td>6</td>\n",
       "    </tr>\n",
       "    <tr>\n",
       "      <th>46</th>\n",
       "      <td>8</td>\n",
       "      <td>Minnesota Vikings</td>\n",
       "      <td>7</td>\n",
       "    </tr>\n",
       "    <tr>\n",
       "      <th>47</th>\n",
       "      <td>7</td>\n",
       "      <td>Washington Redskins</td>\n",
       "      <td>7</td>\n",
       "    </tr>\n",
       "  </tbody>\n",
       "</table>\n",
       "</div>"
      ],
      "text/plain": [
       "    sb_num                loser  loser_pts\n",
       "1       53     Los Angeles Rams          3\n",
       "48       6       Miami Dolphins          3\n",
       "45       9    Minnesota Vikings          6\n",
       "46       8    Minnesota Vikings          7\n",
       "47       7  Washington Redskins          7"
      ]
     },
     "execution_count": 72,
     "metadata": {},
     "output_type": "execute_result"
    }
   ],
   "source": [
    "sb_data.sort_values(by='loser_pts')[['sb_num', 'loser', 'loser_pts']].head()"
   ]
  },
  {
   "cell_type": "code",
   "execution_count": 82,
   "metadata": {
    "scrolled": true
   },
   "outputs": [
    {
     "data": {
      "text/html": [
       "<div>\n",
       "<style scoped>\n",
       "    .dataframe tbody tr th:only-of-type {\n",
       "        vertical-align: middle;\n",
       "    }\n",
       "\n",
       "    .dataframe tbody tr th {\n",
       "        vertical-align: top;\n",
       "    }\n",
       "\n",
       "    .dataframe thead th {\n",
       "        text-align: right;\n",
       "    }\n",
       "</style>\n",
       "<table border=\"1\" class=\"dataframe\">\n",
       "  <thead>\n",
       "    <tr style=\"text-align: right;\">\n",
       "      <th></th>\n",
       "      <th>sb_num</th>\n",
       "      <th>winner_pts</th>\n",
       "      <th>loser_pts</th>\n",
       "    </tr>\n",
       "    <tr>\n",
       "      <th>loser</th>\n",
       "      <th></th>\n",
       "      <th></th>\n",
       "      <th></th>\n",
       "    </tr>\n",
       "  </thead>\n",
       "  <tbody>\n",
       "    <tr>\n",
       "      <th>New York Giants</th>\n",
       "      <td>35.0</td>\n",
       "      <td>34.00</td>\n",
       "      <td>7.0</td>\n",
       "    </tr>\n",
       "    <tr>\n",
       "      <th>Baltimore Colts</th>\n",
       "      <td>3.0</td>\n",
       "      <td>16.00</td>\n",
       "      <td>7.0</td>\n",
       "    </tr>\n",
       "    <tr>\n",
       "      <th>Washington Redskins</th>\n",
       "      <td>12.5</td>\n",
       "      <td>26.00</td>\n",
       "      <td>8.0</td>\n",
       "    </tr>\n",
       "    <tr>\n",
       "      <th>Minnesota Vikings</th>\n",
       "      <td>8.0</td>\n",
       "      <td>23.75</td>\n",
       "      <td>8.5</td>\n",
       "    </tr>\n",
       "    <tr>\n",
       "      <th>Kansas City Chiefs</th>\n",
       "      <td>1.0</td>\n",
       "      <td>35.00</td>\n",
       "      <td>10.0</td>\n",
       "    </tr>\n",
       "  </tbody>\n",
       "</table>\n",
       "</div>"
      ],
      "text/plain": [
       "                     sb_num  winner_pts  loser_pts\n",
       "loser                                             \n",
       "New York Giants        35.0       34.00        7.0\n",
       "Baltimore Colts         3.0       16.00        7.0\n",
       "Washington Redskins    12.5       26.00        8.0\n",
       "Minnesota Vikings       8.0       23.75        8.5\n",
       "Kansas City Chiefs      1.0       35.00       10.0"
      ]
     },
     "execution_count": 82,
     "metadata": {},
     "output_type": "execute_result"
    }
   ],
   "source": [
    "sb_data.groupby(['loser']).mean().sort_values(by='loser_pts').head()"
   ]
  },
  {
   "cell_type": "code",
   "execution_count": 83,
   "metadata": {},
   "outputs": [],
   "source": [
    "sb_data['diff'] = sb_data['winner_pts'] - sb_data['loser_pts']"
   ]
  },
  {
   "cell_type": "code",
   "execution_count": 86,
   "metadata": {
    "scrolled": false
   },
   "outputs": [
    {
     "data": {
      "text/html": [
       "<div>\n",
       "<style scoped>\n",
       "    .dataframe tbody tr th:only-of-type {\n",
       "        vertical-align: middle;\n",
       "    }\n",
       "\n",
       "    .dataframe tbody tr th {\n",
       "        vertical-align: top;\n",
       "    }\n",
       "\n",
       "    .dataframe thead th {\n",
       "        text-align: right;\n",
       "    }\n",
       "</style>\n",
       "<table border=\"1\" class=\"dataframe\">\n",
       "  <thead>\n",
       "    <tr style=\"text-align: right;\">\n",
       "      <th></th>\n",
       "      <th>date</th>\n",
       "      <th>sb_num</th>\n",
       "      <th>winner</th>\n",
       "      <th>winner_pts</th>\n",
       "      <th>loser</th>\n",
       "      <th>loser_pts</th>\n",
       "      <th>mvp</th>\n",
       "      <th>stadium</th>\n",
       "      <th>city</th>\n",
       "      <th>state</th>\n",
       "      <th>diff</th>\n",
       "    </tr>\n",
       "  </thead>\n",
       "  <tbody>\n",
       "    <tr>\n",
       "      <th>30</th>\n",
       "      <td>1990-01-28</td>\n",
       "      <td>24</td>\n",
       "      <td>San Francisco 49ers</td>\n",
       "      <td>55</td>\n",
       "      <td>Denver Broncos</td>\n",
       "      <td>10</td>\n",
       "      <td>Joe Montana</td>\n",
       "      <td>Louisiana Superdome</td>\n",
       "      <td>New Orleans</td>\n",
       "      <td>Louisiana</td>\n",
       "      <td>45</td>\n",
       "    </tr>\n",
       "    <tr>\n",
       "      <th>34</th>\n",
       "      <td>1986-01-26</td>\n",
       "      <td>20</td>\n",
       "      <td>Chicago Bears</td>\n",
       "      <td>46</td>\n",
       "      <td>New England Patriots</td>\n",
       "      <td>10</td>\n",
       "      <td>Richard Dent</td>\n",
       "      <td>Louisiana Superdome</td>\n",
       "      <td>New Orleans</td>\n",
       "      <td>Louisiana</td>\n",
       "      <td>36</td>\n",
       "    </tr>\n",
       "    <tr>\n",
       "      <th>27</th>\n",
       "      <td>1993-01-31</td>\n",
       "      <td>27</td>\n",
       "      <td>Dallas Cowboys</td>\n",
       "      <td>52</td>\n",
       "      <td>Buffalo Bills</td>\n",
       "      <td>17</td>\n",
       "      <td>Troy Aikman</td>\n",
       "      <td>Rose Bowl</td>\n",
       "      <td>Pasadena</td>\n",
       "      <td>California</td>\n",
       "      <td>35</td>\n",
       "    </tr>\n",
       "    <tr>\n",
       "      <th>6</th>\n",
       "      <td>2014-02-02</td>\n",
       "      <td>48</td>\n",
       "      <td>Seattle Seahawks</td>\n",
       "      <td>43</td>\n",
       "      <td>Denver Broncos</td>\n",
       "      <td>8</td>\n",
       "      <td>Malcolm Smith</td>\n",
       "      <td>MetLife Stadium</td>\n",
       "      <td>East Rutherford</td>\n",
       "      <td>New Jersey</td>\n",
       "      <td>35</td>\n",
       "    </tr>\n",
       "    <tr>\n",
       "      <th>32</th>\n",
       "      <td>1988-01-31</td>\n",
       "      <td>22</td>\n",
       "      <td>Washington Redskins</td>\n",
       "      <td>42</td>\n",
       "      <td>Denver Broncos</td>\n",
       "      <td>10</td>\n",
       "      <td>Doug Williams</td>\n",
       "      <td>Jack Murphy Stadium</td>\n",
       "      <td>San Diego</td>\n",
       "      <td>California</td>\n",
       "      <td>32</td>\n",
       "    </tr>\n",
       "  </tbody>\n",
       "</table>\n",
       "</div>"
      ],
      "text/plain": [
       "         date  sb_num               winner  winner_pts                 loser  \\\n",
       "30 1990-01-28      24  San Francisco 49ers          55        Denver Broncos   \n",
       "34 1986-01-26      20        Chicago Bears          46  New England Patriots   \n",
       "27 1993-01-31      27       Dallas Cowboys          52         Buffalo Bills   \n",
       "6  2014-02-02      48     Seattle Seahawks          43        Denver Broncos   \n",
       "32 1988-01-31      22  Washington Redskins          42        Denver Broncos   \n",
       "\n",
       "    loser_pts            mvp              stadium             city  \\\n",
       "30         10    Joe Montana  Louisiana Superdome      New Orleans   \n",
       "34         10   Richard Dent  Louisiana Superdome      New Orleans   \n",
       "27         17    Troy Aikman            Rose Bowl         Pasadena   \n",
       "6           8  Malcolm Smith      MetLife Stadium  East Rutherford   \n",
       "32         10  Doug Williams  Jack Murphy Stadium        San Diego   \n",
       "\n",
       "         state  diff  \n",
       "30   Louisiana    45  \n",
       "34   Louisiana    36  \n",
       "27  California    35  \n",
       "6   New Jersey    35  \n",
       "32  California    32  "
      ]
     },
     "execution_count": 86,
     "metadata": {},
     "output_type": "execute_result"
    }
   ],
   "source": [
    "sb_data.sort_values(by='diff', ascending=False).head()"
   ]
  },
  {
   "cell_type": "code",
   "execution_count": 96,
   "metadata": {},
   "outputs": [
    {
     "data": {
      "text/plain": [
       "New England Patriots    5\n",
       "Denver Broncos          5\n",
       "Minnesota Vikings       4\n",
       "Buffalo Bills           4\n",
       "Dallas Cowboys          3\n",
       "Miami Dolphins          3\n",
       "Cincinnati Bengals      2\n",
       "Washington Redskins     2\n",
       "Oakland Raiders         2\n",
       "Seattle Seahawks        2\n",
       "Pittsburgh Steelers     2\n",
       "Philadelphia Eagles     2\n",
       "Los Angeles Rams        2\n",
       "San Francisco 49ers     2\n",
       "Carolina Panthers       2\n",
       "Atlanta Falcons         2\n",
       "Kansas City Chiefs      1\n",
       "St. Louis Rams          1\n",
       "San Diego Chargers      1\n",
       "Arizona Cardinals       1\n",
       "New York Giants         1\n",
       "Chicago Bears           1\n",
       "Baltimore Colts         1\n",
       "Tennessee Titans        1\n",
       "Green Bay Packers       1\n",
       "Indianapolis Colts      1\n",
       "Name: loser, dtype: int64"
      ]
     },
     "execution_count": 96,
     "metadata": {},
     "output_type": "execute_result"
    }
   ],
   "source": [
    "sb_data['loser'].value_counts().sort_values(ascending=False)"
   ]
  }
 ],
 "metadata": {
  "kernelspec": {
   "display_name": "Python 3",
   "language": "python",
   "name": "python3"
  },
  "language_info": {
   "codemirror_mode": {
    "name": "ipython",
    "version": 3
   },
   "file_extension": ".py",
   "mimetype": "text/x-python",
   "name": "python",
   "nbconvert_exporter": "python",
   "pygments_lexer": "ipython3",
   "version": "3.7.3"
  }
 },
 "nbformat": 4,
 "nbformat_minor": 2
}

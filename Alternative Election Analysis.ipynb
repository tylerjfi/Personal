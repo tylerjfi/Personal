{
 "cells": [
  {
   "cell_type": "markdown",
   "metadata": {},
   "source": [
    "# An Alternative Analysis of the 2020 Election\n",
    "\n",
    "### How Would the Outcome Change if States Used a Popular Vote System to Allocate Electoral Votes?\n",
    "\n",
    "The 2020 US Presidential Election has all but wrapped up, with former Vice President Joe Biden defeating incumbent President Donald Trump via the Electoral College by a (current) count of 279 to 214.  At the time I am writing this, some races have yet to be called, including those in North Carolina, Georgia, Arizona and Alaska.  But Biden's 279 electoral votes are enough to give him a majority of the votes no matter the outcome in those states.\n",
    "\n",
    "\n",
    "For those unfamiliar with the Electoral College, each state is assigned a certain number of electoral votes that is equal to number of senators and representatives that the state has.  The District of Columbia also has three electoral votes.  Each state has two senators and at least one representative in the House, so the minimum number of votes a state can have is three.  California has the most electoral votes with 55.  There are currently 538 total electoral votes that can be won in the presidential election, meaning that a candidate must win at least 270 to win the election.\n",
    "\n",
    "\n",
    "Every state, with the exception of Nebraska and Maine, use a *winner take all* system to determine the recipient of their electoral votes.  This means that whichever candidate wins the most votes in each state wins all of that state's electoral votes.  Maine and Nebraska have their own system, which is similar, but is not important for the purpose of this analysis so I will not go into it.\n",
    "\n",
    "\n",
    "![](election_map.PNG)\n",
    "\n",
    "\n",
    "This is the current 2020 Presidential Election map from ABC News as of November 9th.  States in blue were won by Joe Biden, states in Red were won by Donald Trump, and states in gray have not yet been determined.  I do not feel like this map tells the entire story though.  As long as a candidate wins a state, even by one vote, the entire electorate votes their way.  But is that the best method for determining a winner?  In 2016, Donald Trump received about 4.5 million votes in the state of California, which was his third highest total of any state, but he lost the state, giving Hillary Clinton all 55 electoral votes.  The same happened to Hillary Clinton in Florida.  She had her third highest vote count of any state in Florida, but lost all 29 electoral votes because Donald Trump carried the state.\n",
    "\n",
    "\n",
    "But what if states split up their electorate vote based on voting percentages in their state?  For instance, say a state has 12 electorate votes.  And also consider a situation where Donald Trump wins 55% of the vote, and Joe Biden wins 45% (assume no votes Independent for simplicity sake).  Under the current political system, Donald Trump would win all 12 electoral votes, but under my alternative system, Donald Trump would win seven (6.6 rounded up) and Joe Biden would win five.  Using our scenario from above, Donald Trump would have carried 17 votes in California, and Hillary Clinton would have received 14 in Florida.  Would this system have been enough to change the outcome of the election? Maybe I'll explore it in a later analysis.\n",
    "\n",
    "\n",
    "This makes the system a type of hybrid between the current electoral system (i.e. more populous states will still have more votes/influence over the election) and a popular vote system.  *In this analysis*, I want to see how the outcome of the 2020 US Presidential Election might change using the Popular-Electoral system that I described above."
   ]
  },
  {
   "cell_type": "markdown",
   "metadata": {},
   "source": [
    "# Analysis\n",
    "\n",
    "\n",
    "The first thing we need to do is load up a dataset with the election results.  The data I will be using is a csv that I created using vote counts according to the New York Times as of Monday, November 9th.  These numbers are still unofficial, and I will continue to update them as new data becomes available."
   ]
  },
  {
   "cell_type": "code",
   "execution_count": 1,
   "metadata": {
    "scrolled": false
   },
   "outputs": [
    {
     "name": "stdout",
     "output_type": "stream",
     "text": [
      "<class 'pandas.core.frame.DataFrame'>\n",
      "RangeIndex: 51 entries, 0 to 50\n",
      "Data columns (total 6 columns):\n",
      " #   Column           Non-Null Count  Dtype \n",
      "---  ------           --------------  ----- \n",
      " 0   Code             51 non-null     object\n",
      " 1   state            51 non-null     object\n",
      " 2   electoral_votes  51 non-null     int64 \n",
      " 3   votes_d          51 non-null     int64 \n",
      " 4   votes_r          51 non-null     int64 \n",
      " 5   votes_i          51 non-null     int64 \n",
      "dtypes: int64(4), object(2)\n",
      "memory usage: 2.5+ KB\n"
     ]
    }
   ],
   "source": [
    "import pandas as pd\n",
    "import numpy as np\n",
    "\n",
    "results = pd.read_csv('election_results.csv')\n",
    "results = results.iloc[:,0:6]\n",
    "results.info()"
   ]
  },
  {
   "cell_type": "code",
   "execution_count": 2,
   "metadata": {
    "scrolled": true
   },
   "outputs": [
    {
     "data": {
      "text/html": [
       "<div>\n",
       "<style scoped>\n",
       "    .dataframe tbody tr th:only-of-type {\n",
       "        vertical-align: middle;\n",
       "    }\n",
       "\n",
       "    .dataframe tbody tr th {\n",
       "        vertical-align: top;\n",
       "    }\n",
       "\n",
       "    .dataframe thead th {\n",
       "        text-align: right;\n",
       "    }\n",
       "</style>\n",
       "<table border=\"1\" class=\"dataframe\">\n",
       "  <thead>\n",
       "    <tr style=\"text-align: right;\">\n",
       "      <th></th>\n",
       "      <th>Code</th>\n",
       "      <th>state</th>\n",
       "      <th>electoral_votes</th>\n",
       "      <th>votes_d</th>\n",
       "      <th>votes_r</th>\n",
       "      <th>votes_i</th>\n",
       "    </tr>\n",
       "  </thead>\n",
       "  <tbody>\n",
       "    <tr>\n",
       "      <th>0</th>\n",
       "      <td>AL</td>\n",
       "      <td>Alabama</td>\n",
       "      <td>9</td>\n",
       "      <td>843473</td>\n",
       "      <td>1434159</td>\n",
       "      <td>32268</td>\n",
       "    </tr>\n",
       "    <tr>\n",
       "      <th>1</th>\n",
       "      <td>AK</td>\n",
       "      <td>Alaska</td>\n",
       "      <td>3</td>\n",
       "      <td>64246</td>\n",
       "      <td>118844</td>\n",
       "      <td>7880</td>\n",
       "    </tr>\n",
       "    <tr>\n",
       "      <th>2</th>\n",
       "      <td>AZ</td>\n",
       "      <td>Arizona</td>\n",
       "      <td>11</td>\n",
       "      <td>1644074</td>\n",
       "      <td>1626943</td>\n",
       "      <td>52211</td>\n",
       "    </tr>\n",
       "    <tr>\n",
       "      <th>3</th>\n",
       "      <td>AR</td>\n",
       "      <td>Arkansas</td>\n",
       "      <td>6</td>\n",
       "      <td>418018</td>\n",
       "      <td>756995</td>\n",
       "      <td>34267</td>\n",
       "    </tr>\n",
       "    <tr>\n",
       "      <th>4</th>\n",
       "      <td>CA</td>\n",
       "      <td>California</td>\n",
       "      <td>55</td>\n",
       "      <td>9325844</td>\n",
       "      <td>4814402</td>\n",
       "      <td>286835</td>\n",
       "    </tr>\n",
       "  </tbody>\n",
       "</table>\n",
       "</div>"
      ],
      "text/plain": [
       "  Code       state  electoral_votes  votes_d  votes_r  votes_i\n",
       "0   AL     Alabama                9   843473  1434159    32268\n",
       "1   AK      Alaska                3    64246   118844     7880\n",
       "2   AZ     Arizona               11  1644074  1626943    52211\n",
       "3   AR    Arkansas                6   418018   756995    34267\n",
       "4   CA  California               55  9325844  4814402   286835"
      ]
     },
     "execution_count": 2,
     "metadata": {},
     "output_type": "execute_result"
    }
   ],
   "source": [
    "results.head()"
   ]
  },
  {
   "cell_type": "markdown",
   "metadata": {},
   "source": [
    "As you can see, the data includes state names and abbreviations (also Washington DC), the number of electoral votes that each state has, the number of votes for the Democratic candidate Joe Biden (*votes_d*), the number of votes for President Donald Trump (*votes_r*), all the sum of all votes cast for an Independent candidate.  For the purpose of this analysis, I am allowing electoral votes to be awarded to independents as a whole if they meet the threshold, as a way to kind of play \"spoiler\" to, or vulture electoral votes away from, other parties.\n",
    "\n",
    "\n",
    "Below you can verify that the total number of electoral votes is equal to 538."
   ]
  },
  {
   "cell_type": "code",
   "execution_count": 3,
   "metadata": {
    "scrolled": true
   },
   "outputs": [
    {
     "data": {
      "text/plain": [
       "538"
      ]
     },
     "execution_count": 3,
     "metadata": {},
     "output_type": "execute_result"
    }
   ],
   "source": [
    "results['electoral_votes'].sum()"
   ]
  },
  {
   "cell_type": "markdown",
   "metadata": {},
   "source": [
    "Let's next look at the number of votes each party received total."
   ]
  },
  {
   "cell_type": "code",
   "execution_count": 4,
   "metadata": {
    "scrolled": true
   },
   "outputs": [
    {
     "data": {
      "text/plain": [
       "Joe Biden       75737619\n",
       "Donald Trump    71318303\n",
       "Independent      2663862\n",
       "dtype: int64"
      ]
     },
     "execution_count": 4,
     "metadata": {},
     "output_type": "execute_result"
    }
   ],
   "source": [
    "votes_by_party = results[['votes_d', 'votes_r', 'votes_i']].sum()\n",
    "votes_by_party.index = ['Joe Biden', 'Donald Trump', 'Independent']\n",
    "votes_by_party"
   ]
  },
  {
   "cell_type": "markdown",
   "metadata": {},
   "source": [
    "Next we need to add up all the votes in each state, to be able to determine percentages which will be used to delegate electoral votes. "
   ]
  },
  {
   "cell_type": "code",
   "execution_count": 5,
   "metadata": {},
   "outputs": [],
   "source": [
    "results['total_votes'] = results[['votes_d', 'votes_r', 'votes_i']].sum(axis=1)"
   ]
  },
  {
   "cell_type": "markdown",
   "metadata": {},
   "source": [
    "Now we delegate the electoral votes by dividing the number of votes for each candidate by the total number of votes in each state, and multiplying this by the number of electoral votes in the state.  Also, for the purpose of this analysis, I am assuming electoral votes as cast as a whole, and thus we need to round each number to the nearest whole number."
   ]
  },
  {
   "cell_type": "code",
   "execution_count": 6,
   "metadata": {},
   "outputs": [],
   "source": [
    "results['ev_d'] = (results['electoral_votes'] * (results['votes_d']/results['total_votes'])).round(0)\n",
    "results['ev_r'] = (results['electoral_votes'] * (results['votes_r']/results['total_votes'])).round(0)\n",
    "results['ev_i'] = (results['electoral_votes'] * (results['votes_i']/results['total_votes'])).round(0)"
   ]
  },
  {
   "cell_type": "code",
   "execution_count": 7,
   "metadata": {},
   "outputs": [
    {
     "name": "stdout",
     "output_type": "stream",
     "text": [
      "Joe Biden EV       268.0\n",
      "Donald Trump EV    262.0\n",
      "Independent EV       2.0\n",
      "dtype: float64\n",
      "Total Electoral Votes:  532.0\n"
     ]
    }
   ],
   "source": [
    "prelim_ev = results[['ev_d','ev_r','ev_i']].sum()\n",
    "prelim_ev.index = ['Joe Biden EV', 'Donald Trump EV', 'Independent EV']\n",
    "print(prelim_ev)\n",
    "print(\"Total Electoral Votes: \",results[['ev_d','ev_r','ev_i']].sum(axis=1).sum(axis=0))"
   ]
  },
  {
   "cell_type": "markdown",
   "metadata": {},
   "source": [
    "Using the new Popular-Electoral method, only 532 of 538 electoral votes have been allocated.  This is due to the rounding that we did in the previous step.  Let's take a look at the states that didn't allocate all of their votes (or allocated too many)."
   ]
  },
  {
   "cell_type": "code",
   "execution_count": 8,
   "metadata": {
    "scrolled": true
   },
   "outputs": [
    {
     "data": {
      "text/html": [
       "<div>\n",
       "<style scoped>\n",
       "    .dataframe tbody tr th:only-of-type {\n",
       "        vertical-align: middle;\n",
       "    }\n",
       "\n",
       "    .dataframe tbody tr th {\n",
       "        vertical-align: top;\n",
       "    }\n",
       "\n",
       "    .dataframe thead th {\n",
       "        text-align: right;\n",
       "    }\n",
       "</style>\n",
       "<table border=\"1\" class=\"dataframe\">\n",
       "  <thead>\n",
       "    <tr style=\"text-align: right;\">\n",
       "      <th></th>\n",
       "      <th>state</th>\n",
       "      <th>electoral_votes</th>\n",
       "      <th>ev_d</th>\n",
       "      <th>ev_r</th>\n",
       "      <th>ev_i</th>\n",
       "      <th>allocated_ev</th>\n",
       "    </tr>\n",
       "  </thead>\n",
       "  <tbody>\n",
       "    <tr>\n",
       "      <th>2</th>\n",
       "      <td>Arizona</td>\n",
       "      <td>11</td>\n",
       "      <td>5.0</td>\n",
       "      <td>5.0</td>\n",
       "      <td>0.0</td>\n",
       "      <td>10.0</td>\n",
       "    </tr>\n",
       "    <tr>\n",
       "      <th>14</th>\n",
       "      <td>Indiana</td>\n",
       "      <td>11</td>\n",
       "      <td>4.0</td>\n",
       "      <td>6.0</td>\n",
       "      <td>0.0</td>\n",
       "      <td>10.0</td>\n",
       "    </tr>\n",
       "    <tr>\n",
       "      <th>16</th>\n",
       "      <td>Kansas</td>\n",
       "      <td>6</td>\n",
       "      <td>2.0</td>\n",
       "      <td>3.0</td>\n",
       "      <td>0.0</td>\n",
       "      <td>5.0</td>\n",
       "    </tr>\n",
       "    <tr>\n",
       "      <th>20</th>\n",
       "      <td>Maryland</td>\n",
       "      <td>10</td>\n",
       "      <td>6.0</td>\n",
       "      <td>3.0</td>\n",
       "      <td>0.0</td>\n",
       "      <td>9.0</td>\n",
       "    </tr>\n",
       "    <tr>\n",
       "      <th>32</th>\n",
       "      <td>New York</td>\n",
       "      <td>29</td>\n",
       "      <td>16.0</td>\n",
       "      <td>12.0</td>\n",
       "      <td>0.0</td>\n",
       "      <td>28.0</td>\n",
       "    </tr>\n",
       "    <tr>\n",
       "      <th>43</th>\n",
       "      <td>Texas</td>\n",
       "      <td>38</td>\n",
       "      <td>18.0</td>\n",
       "      <td>20.0</td>\n",
       "      <td>1.0</td>\n",
       "      <td>39.0</td>\n",
       "    </tr>\n",
       "    <tr>\n",
       "      <th>44</th>\n",
       "      <td>Utah</td>\n",
       "      <td>6</td>\n",
       "      <td>2.0</td>\n",
       "      <td>3.0</td>\n",
       "      <td>0.0</td>\n",
       "      <td>5.0</td>\n",
       "    </tr>\n",
       "    <tr>\n",
       "      <th>48</th>\n",
       "      <td>West Virginia</td>\n",
       "      <td>5</td>\n",
       "      <td>1.0</td>\n",
       "      <td>3.0</td>\n",
       "      <td>0.0</td>\n",
       "      <td>4.0</td>\n",
       "    </tr>\n",
       "  </tbody>\n",
       "</table>\n",
       "</div>"
      ],
      "text/plain": [
       "            state  electoral_votes  ev_d  ev_r  ev_i  allocated_ev\n",
       "2         Arizona               11   5.0   5.0   0.0          10.0\n",
       "14        Indiana               11   4.0   6.0   0.0          10.0\n",
       "16         Kansas                6   2.0   3.0   0.0           5.0\n",
       "20       Maryland               10   6.0   3.0   0.0           9.0\n",
       "32       New York               29  16.0  12.0   0.0          28.0\n",
       "43          Texas               38  18.0  20.0   1.0          39.0\n",
       "44           Utah                6   2.0   3.0   0.0           5.0\n",
       "48  West Virginia                5   1.0   3.0   0.0           4.0"
      ]
     },
     "execution_count": 8,
     "metadata": {},
     "output_type": "execute_result"
    }
   ],
   "source": [
    "#only 532 votes allocated, need to find states that didn't fully allocate (due to rounding)\n",
    "not_equal = results['electoral_votes'] != results[['ev_d','ev_r','ev_i']].sum(axis=1)\n",
    "not_equal_df = results.loc[not_equal,['state','electoral_votes','ev_d','ev_r','ev_i']]\n",
    "not_equal_df['allocated_ev'] = not_equal_df[['ev_d','ev_r','ev_i']].sum(axis=1)\n",
    "not_equal_df"
   ]
  },
  {
   "cell_type": "markdown",
   "metadata": {},
   "source": [
    "As you can see, Arizona, Indiana, Kansas, Maryland, New York, Utah, and West Virginia still have one electoral vote left to allocate, while Texas allocated one too many.  Now the question becomes how to distribute the remaining votes (and how to take one away from Texas). \n",
    "\n",
    "\n",
    "As for the states with votes left to cast, I believe that the best method is to award the extra vote to the *winner of the popular vote in the state*.  I believe that this is the fairest option, and it would reward the candidate for winning the state as a whole, much like the electoral college does now.\n",
    "\n",
    "\n",
    "For simplicity sake, I believe that the best method for removing a vote from Texas is to take away the Independent electoral vote.  As you saw above, the race is very close between the two candidates (268 to 262 with 6 votes left to be counted), while only two total electoral votes went to Independents.  Thus I do not believe it is fair to arbitrarily take away a vote from Biden or Trump. Also since the Independent category includes all candidates and not just the leading vote getter, I believe that taking the vote away from the Independents is the best option.\n",
    "\n",
    "\n",
    "Below, I will determine the winner of the popular vote in each state, and assign an extra electoral vote for the states that need it.  Keep in mind, these numbers reflect those available as of November 9th, and could change, especially in a close race that has yet to be called (Arizona).  "
   ]
  },
  {
   "cell_type": "code",
   "execution_count": 9,
   "metadata": {},
   "outputs": [],
   "source": [
    "#Set baseline for category\n",
    "results['state_winner'] = 'Republican'\n",
    "\n",
    "#Change to democrat if they won the state\n",
    "mask = results['votes_d'] > results['votes_r']\n",
    "results.loc[mask,'state_winner'] = 'Democrat'"
   ]
  },
  {
   "cell_type": "markdown",
   "metadata": {},
   "source": [
    "Here, I am just performing an audit on five random states to ensure that the state winner was chosen correctly."
   ]
  },
  {
   "cell_type": "code",
   "execution_count": 10,
   "metadata": {
    "scrolled": true
   },
   "outputs": [
    {
     "data": {
      "text/html": [
       "<div>\n",
       "<style scoped>\n",
       "    .dataframe tbody tr th:only-of-type {\n",
       "        vertical-align: middle;\n",
       "    }\n",
       "\n",
       "    .dataframe tbody tr th {\n",
       "        vertical-align: top;\n",
       "    }\n",
       "\n",
       "    .dataframe thead th {\n",
       "        text-align: right;\n",
       "    }\n",
       "</style>\n",
       "<table border=\"1\" class=\"dataframe\">\n",
       "  <thead>\n",
       "    <tr style=\"text-align: right;\">\n",
       "      <th></th>\n",
       "      <th>Code</th>\n",
       "      <th>state</th>\n",
       "      <th>electoral_votes</th>\n",
       "      <th>votes_d</th>\n",
       "      <th>votes_r</th>\n",
       "      <th>votes_i</th>\n",
       "      <th>total_votes</th>\n",
       "      <th>ev_d</th>\n",
       "      <th>ev_r</th>\n",
       "      <th>ev_i</th>\n",
       "      <th>state_winner</th>\n",
       "    </tr>\n",
       "  </thead>\n",
       "  <tbody>\n",
       "    <tr>\n",
       "      <th>33</th>\n",
       "      <td>NC</td>\n",
       "      <td>North Carolina</td>\n",
       "      <td>15</td>\n",
       "      <td>2658899</td>\n",
       "      <td>2734053</td>\n",
       "      <td>71850</td>\n",
       "      <td>5464802</td>\n",
       "      <td>7.0</td>\n",
       "      <td>8.0</td>\n",
       "      <td>0.0</td>\n",
       "      <td>Republican</td>\n",
       "    </tr>\n",
       "    <tr>\n",
       "      <th>30</th>\n",
       "      <td>NJ</td>\n",
       "      <td>New Jersey</td>\n",
       "      <td>14</td>\n",
       "      <td>2200289</td>\n",
       "      <td>1537893</td>\n",
       "      <td>55027</td>\n",
       "      <td>3793209</td>\n",
       "      <td>8.0</td>\n",
       "      <td>6.0</td>\n",
       "      <td>0.0</td>\n",
       "      <td>Democrat</td>\n",
       "    </tr>\n",
       "    <tr>\n",
       "      <th>41</th>\n",
       "      <td>SD</td>\n",
       "      <td>South Dakota</td>\n",
       "      <td>3</td>\n",
       "      <td>150475</td>\n",
       "      <td>261108</td>\n",
       "      <td>11095</td>\n",
       "      <td>422678</td>\n",
       "      <td>1.0</td>\n",
       "      <td>2.0</td>\n",
       "      <td>0.0</td>\n",
       "      <td>Republican</td>\n",
       "    </tr>\n",
       "    <tr>\n",
       "      <th>31</th>\n",
       "      <td>NM</td>\n",
       "      <td>New Mexico</td>\n",
       "      <td>5</td>\n",
       "      <td>498022</td>\n",
       "      <td>400920</td>\n",
       "      <td>20319</td>\n",
       "      <td>919261</td>\n",
       "      <td>3.0</td>\n",
       "      <td>2.0</td>\n",
       "      <td>0.0</td>\n",
       "      <td>Democrat</td>\n",
       "    </tr>\n",
       "    <tr>\n",
       "      <th>6</th>\n",
       "      <td>CT</td>\n",
       "      <td>Connecticut</td>\n",
       "      <td>7</td>\n",
       "      <td>1079122</td>\n",
       "      <td>714144</td>\n",
       "      <td>28529</td>\n",
       "      <td>1821795</td>\n",
       "      <td>4.0</td>\n",
       "      <td>3.0</td>\n",
       "      <td>0.0</td>\n",
       "      <td>Democrat</td>\n",
       "    </tr>\n",
       "  </tbody>\n",
       "</table>\n",
       "</div>"
      ],
      "text/plain": [
       "   Code           state  electoral_votes  votes_d  votes_r  votes_i  \\\n",
       "33   NC  North Carolina               15  2658899  2734053    71850   \n",
       "30   NJ      New Jersey               14  2200289  1537893    55027   \n",
       "41   SD    South Dakota                3   150475   261108    11095   \n",
       "31   NM      New Mexico                5   498022   400920    20319   \n",
       "6    CT     Connecticut                7  1079122   714144    28529   \n",
       "\n",
       "    total_votes  ev_d  ev_r  ev_i state_winner  \n",
       "33      5464802   7.0   8.0   0.0   Republican  \n",
       "30      3793209   8.0   6.0   0.0     Democrat  \n",
       "41       422678   1.0   2.0   0.0   Republican  \n",
       "31       919261   3.0   2.0   0.0     Democrat  \n",
       "6       1821795   4.0   3.0   0.0     Democrat  "
      ]
     },
     "execution_count": 10,
     "metadata": {},
     "output_type": "execute_result"
    }
   ],
   "source": [
    "audit = np.random.randint(0, 52, 5)\n",
    "results.iloc[audit,:]"
   ]
  },
  {
   "cell_type": "code",
   "execution_count": 11,
   "metadata": {
    "scrolled": true
   },
   "outputs": [
    {
     "data": {
      "text/html": [
       "<div>\n",
       "<style scoped>\n",
       "    .dataframe tbody tr th:only-of-type {\n",
       "        vertical-align: middle;\n",
       "    }\n",
       "\n",
       "    .dataframe tbody tr th {\n",
       "        vertical-align: top;\n",
       "    }\n",
       "\n",
       "    .dataframe thead th {\n",
       "        text-align: right;\n",
       "    }\n",
       "</style>\n",
       "<table border=\"1\" class=\"dataframe\">\n",
       "  <thead>\n",
       "    <tr style=\"text-align: right;\">\n",
       "      <th></th>\n",
       "      <th>Code</th>\n",
       "      <th>state</th>\n",
       "      <th>electoral_votes</th>\n",
       "      <th>votes_d</th>\n",
       "      <th>votes_r</th>\n",
       "      <th>votes_i</th>\n",
       "      <th>total_votes</th>\n",
       "      <th>ev_d</th>\n",
       "      <th>ev_r</th>\n",
       "      <th>ev_i</th>\n",
       "      <th>state_winner</th>\n",
       "    </tr>\n",
       "  </thead>\n",
       "  <tbody>\n",
       "    <tr>\n",
       "      <th>0</th>\n",
       "      <td>AL</td>\n",
       "      <td>Alabama</td>\n",
       "      <td>9</td>\n",
       "      <td>843473</td>\n",
       "      <td>1434159</td>\n",
       "      <td>32268</td>\n",
       "      <td>2309900</td>\n",
       "      <td>3.0</td>\n",
       "      <td>6.0</td>\n",
       "      <td>0.0</td>\n",
       "      <td>Republican</td>\n",
       "    </tr>\n",
       "    <tr>\n",
       "      <th>1</th>\n",
       "      <td>AK</td>\n",
       "      <td>Alaska</td>\n",
       "      <td>3</td>\n",
       "      <td>64246</td>\n",
       "      <td>118844</td>\n",
       "      <td>7880</td>\n",
       "      <td>190970</td>\n",
       "      <td>1.0</td>\n",
       "      <td>2.0</td>\n",
       "      <td>0.0</td>\n",
       "      <td>Republican</td>\n",
       "    </tr>\n",
       "    <tr>\n",
       "      <th>2</th>\n",
       "      <td>AZ</td>\n",
       "      <td>Arizona</td>\n",
       "      <td>11</td>\n",
       "      <td>1644074</td>\n",
       "      <td>1626943</td>\n",
       "      <td>52211</td>\n",
       "      <td>3323228</td>\n",
       "      <td>6.0</td>\n",
       "      <td>5.0</td>\n",
       "      <td>0.0</td>\n",
       "      <td>Democrat</td>\n",
       "    </tr>\n",
       "    <tr>\n",
       "      <th>3</th>\n",
       "      <td>AR</td>\n",
       "      <td>Arkansas</td>\n",
       "      <td>6</td>\n",
       "      <td>418018</td>\n",
       "      <td>756995</td>\n",
       "      <td>34267</td>\n",
       "      <td>1209280</td>\n",
       "      <td>2.0</td>\n",
       "      <td>4.0</td>\n",
       "      <td>0.0</td>\n",
       "      <td>Republican</td>\n",
       "    </tr>\n",
       "    <tr>\n",
       "      <th>4</th>\n",
       "      <td>CA</td>\n",
       "      <td>California</td>\n",
       "      <td>55</td>\n",
       "      <td>9325844</td>\n",
       "      <td>4814402</td>\n",
       "      <td>286835</td>\n",
       "      <td>14427081</td>\n",
       "      <td>36.0</td>\n",
       "      <td>18.0</td>\n",
       "      <td>1.0</td>\n",
       "      <td>Democrat</td>\n",
       "    </tr>\n",
       "  </tbody>\n",
       "</table>\n",
       "</div>"
      ],
      "text/plain": [
       "  Code       state  electoral_votes  votes_d  votes_r  votes_i  total_votes  \\\n",
       "0   AL     Alabama                9   843473  1434159    32268      2309900   \n",
       "1   AK      Alaska                3    64246   118844     7880       190970   \n",
       "2   AZ     Arizona               11  1644074  1626943    52211      3323228   \n",
       "3   AR    Arkansas                6   418018   756995    34267      1209280   \n",
       "4   CA  California               55  9325844  4814402   286835     14427081   \n",
       "\n",
       "   ev_d  ev_r  ev_i state_winner  \n",
       "0   3.0   6.0   0.0   Republican  \n",
       "1   1.0   2.0   0.0   Republican  \n",
       "2   6.0   5.0   0.0     Democrat  \n",
       "3   2.0   4.0   0.0   Republican  \n",
       "4  36.0  18.0   1.0     Democrat  "
      ]
     },
     "execution_count": 11,
     "metadata": {},
     "output_type": "execute_result"
    }
   ],
   "source": [
    "#Award additional electoral vote to state winner where numbers did not add up because of rounding\n",
    "d_mask = (results['electoral_votes'] > results[['ev_d','ev_r','ev_i']].sum(axis=1)) & (results['state_winner'] == 'Democrat')\n",
    "results.loc[d_mask,'ev_d'] = results.loc[d_mask,'ev_d']+1\n",
    "r_mask = (results['electoral_votes'] > results[['ev_d','ev_r','ev_i']].sum(axis=1)) & (results['state_winner'] == 'Republican')\n",
    "results.loc[r_mask,'ev_r'] = results.loc[r_mask,'ev_r']+1\n",
    "results.head()"
   ]
  },
  {
   "cell_type": "code",
   "execution_count": 12,
   "metadata": {
    "scrolled": true
   },
   "outputs": [
    {
     "data": {
      "text/plain": [
       "539.0"
      ]
     },
     "execution_count": 12,
     "metadata": {},
     "output_type": "execute_result"
    }
   ],
   "source": [
    "results[['ev_d','ev_r','ev_i']].sum(axis=1).sum()"
   ]
  },
  {
   "cell_type": "code",
   "execution_count": 13,
   "metadata": {
    "scrolled": true
   },
   "outputs": [
    {
     "data": {
      "text/html": [
       "<div>\n",
       "<style scoped>\n",
       "    .dataframe tbody tr th:only-of-type {\n",
       "        vertical-align: middle;\n",
       "    }\n",
       "\n",
       "    .dataframe tbody tr th {\n",
       "        vertical-align: top;\n",
       "    }\n",
       "\n",
       "    .dataframe thead th {\n",
       "        text-align: right;\n",
       "    }\n",
       "</style>\n",
       "<table border=\"1\" class=\"dataframe\">\n",
       "  <thead>\n",
       "    <tr style=\"text-align: right;\">\n",
       "      <th></th>\n",
       "      <th>state</th>\n",
       "      <th>electoral_votes</th>\n",
       "      <th>ev_d</th>\n",
       "      <th>ev_r</th>\n",
       "      <th>ev_i</th>\n",
       "    </tr>\n",
       "  </thead>\n",
       "  <tbody>\n",
       "    <tr>\n",
       "      <th>43</th>\n",
       "      <td>Texas</td>\n",
       "      <td>38</td>\n",
       "      <td>18.0</td>\n",
       "      <td>20.0</td>\n",
       "      <td>1.0</td>\n",
       "    </tr>\n",
       "  </tbody>\n",
       "</table>\n",
       "</div>"
      ],
      "text/plain": [
       "    state  electoral_votes  ev_d  ev_r  ev_i\n",
       "43  Texas               38  18.0  20.0   1.0"
      ]
     },
     "execution_count": 13,
     "metadata": {},
     "output_type": "execute_result"
    }
   ],
   "source": [
    "mask = results['electoral_votes'] != results[['ev_d','ev_r','ev_i']].sum(axis=1)\n",
    "results.loc[mask,['state','electoral_votes','ev_d','ev_r','ev_i']]"
   ]
  },
  {
   "cell_type": "markdown",
   "metadata": {},
   "source": [
    "As you can see, additional votes in Arizona, Indiana, etc. were counted, and the only state left with an imbalance is Texas, where we decided to take away the Independent vote."
   ]
  },
  {
   "cell_type": "code",
   "execution_count": 14,
   "metadata": {
    "scrolled": true
   },
   "outputs": [
    {
     "data": {
      "text/html": [
       "<div>\n",
       "<style scoped>\n",
       "    .dataframe tbody tr th:only-of-type {\n",
       "        vertical-align: middle;\n",
       "    }\n",
       "\n",
       "    .dataframe tbody tr th {\n",
       "        vertical-align: top;\n",
       "    }\n",
       "\n",
       "    .dataframe thead th {\n",
       "        text-align: right;\n",
       "    }\n",
       "</style>\n",
       "<table border=\"1\" class=\"dataframe\">\n",
       "  <thead>\n",
       "    <tr style=\"text-align: right;\">\n",
       "      <th></th>\n",
       "      <th>Code</th>\n",
       "      <th>state</th>\n",
       "      <th>electoral_votes</th>\n",
       "      <th>votes_d</th>\n",
       "      <th>votes_r</th>\n",
       "      <th>votes_i</th>\n",
       "      <th>total_votes</th>\n",
       "      <th>ev_d</th>\n",
       "      <th>ev_r</th>\n",
       "      <th>ev_i</th>\n",
       "      <th>state_winner</th>\n",
       "    </tr>\n",
       "  </thead>\n",
       "  <tbody>\n",
       "    <tr>\n",
       "      <th>43</th>\n",
       "      <td>TX</td>\n",
       "      <td>Texas</td>\n",
       "      <td>38</td>\n",
       "      <td>5216327</td>\n",
       "      <td>5872362</td>\n",
       "      <td>170479</td>\n",
       "      <td>11259168</td>\n",
       "      <td>18.0</td>\n",
       "      <td>20.0</td>\n",
       "      <td>0.0</td>\n",
       "      <td>Republican</td>\n",
       "    </tr>\n",
       "  </tbody>\n",
       "</table>\n",
       "</div>"
      ],
      "text/plain": [
       "   Code  state  electoral_votes  votes_d  votes_r  votes_i  total_votes  ev_d  \\\n",
       "43   TX  Texas               38  5216327  5872362   170479     11259168  18.0   \n",
       "\n",
       "    ev_r  ev_i state_winner  \n",
       "43  20.0   0.0   Republican  "
      ]
     },
     "execution_count": 14,
     "metadata": {},
     "output_type": "execute_result"
    }
   ],
   "source": [
    "#Texas gives out an extra vote due to rounding\n",
    "#Decide to take independent electoral vote away so the effect on the outcome of the election is minimal\n",
    "results.loc[results['state'] == 'Texas','ev_i']-= 1\n",
    "results[results['state']=='Texas']"
   ]
  },
  {
   "cell_type": "code",
   "execution_count": 15,
   "metadata": {
    "scrolled": true
   },
   "outputs": [
    {
     "data": {
      "text/plain": [
       "538.0"
      ]
     },
     "execution_count": 15,
     "metadata": {},
     "output_type": "execute_result"
    }
   ],
   "source": [
    "results[['ev_d','ev_r','ev_i']].sum(axis=1).sum()"
   ]
  },
  {
   "cell_type": "code",
   "execution_count": 16,
   "metadata": {
    "scrolled": false
   },
   "outputs": [
    {
     "data": {
      "text/plain": [
       "Joe Biden       271.0\n",
       "Donald Trump    266.0\n",
       "Independent       1.0\n",
       "dtype: float64"
      ]
     },
     "execution_count": 16,
     "metadata": {},
     "output_type": "execute_result"
    }
   ],
   "source": [
    "final_tally = results[['ev_d','ev_r','ev_i']].sum()\n",
    "final_tally.index = ['Joe Biden', 'Donald Trump', 'Independent']\n",
    "final_tally"
   ]
  },
  {
   "cell_type": "markdown",
   "metadata": {},
   "source": [
    "And there you have it! Joe Biden (unoffically) has won the presidency using our Popular-Electoral system, defeating incumbent Donald Trump by a margin of 271-266.  However, unlike the current electoral system, the Popular-Electoral system is much more susceptible to change as more votes get counted.  A few thousand votes could shift a candidate over the 0.5 threshold, which means the electoral votes would get rounded up instead of down in a state.  This means that the race is not over until every single vote is counted.  \n",
    "\n",
    "\n",
    "One thing I am curious about is which date designated a vote for the Independent candidates."
   ]
  },
  {
   "cell_type": "code",
   "execution_count": 17,
   "metadata": {
    "scrolled": false
   },
   "outputs": [
    {
     "data": {
      "text/html": [
       "<div>\n",
       "<style scoped>\n",
       "    .dataframe tbody tr th:only-of-type {\n",
       "        vertical-align: middle;\n",
       "    }\n",
       "\n",
       "    .dataframe tbody tr th {\n",
       "        vertical-align: top;\n",
       "    }\n",
       "\n",
       "    .dataframe thead th {\n",
       "        text-align: right;\n",
       "    }\n",
       "</style>\n",
       "<table border=\"1\" class=\"dataframe\">\n",
       "  <thead>\n",
       "    <tr style=\"text-align: right;\">\n",
       "      <th></th>\n",
       "      <th>Code</th>\n",
       "      <th>state</th>\n",
       "      <th>electoral_votes</th>\n",
       "      <th>votes_d</th>\n",
       "      <th>votes_r</th>\n",
       "      <th>votes_i</th>\n",
       "      <th>total_votes</th>\n",
       "      <th>ev_d</th>\n",
       "      <th>ev_r</th>\n",
       "      <th>ev_i</th>\n",
       "      <th>state_winner</th>\n",
       "    </tr>\n",
       "  </thead>\n",
       "  <tbody>\n",
       "    <tr>\n",
       "      <th>4</th>\n",
       "      <td>CA</td>\n",
       "      <td>California</td>\n",
       "      <td>55</td>\n",
       "      <td>9325844</td>\n",
       "      <td>4814402</td>\n",
       "      <td>286835</td>\n",
       "      <td>14427081</td>\n",
       "      <td>36.0</td>\n",
       "      <td>18.0</td>\n",
       "      <td>1.0</td>\n",
       "      <td>Democrat</td>\n",
       "    </tr>\n",
       "  </tbody>\n",
       "</table>\n",
       "</div>"
      ],
      "text/plain": [
       "  Code       state  electoral_votes  votes_d  votes_r  votes_i  total_votes  \\\n",
       "4   CA  California               55  9325844  4814402   286835     14427081   \n",
       "\n",
       "   ev_d  ev_r  ev_i state_winner  \n",
       "4  36.0  18.0   1.0     Democrat  "
      ]
     },
     "execution_count": 17,
     "metadata": {},
     "output_type": "execute_result"
    }
   ],
   "source": [
    "results.loc[results['ev_i'] > 0]"
   ]
  },
  {
   "cell_type": "markdown",
   "metadata": {},
   "source": [
    "Unsurprisingly, it is California, whose 55 electoral votes make it much easier for the Independents to meet the threshold for a vote."
   ]
  },
  {
   "cell_type": "markdown",
   "metadata": {},
   "source": [
    "# A New Map\n",
    "\n",
    "\n",
    "The last thing that I want to look at in this analysis is a new version of the map from ABC News that I included above.  That map only included three colors, red, blue, and gray.  But like I said before, it does not tell the whole story of a state.  Below, I have created a map that uses a red to blue scale to give a clearer picture of where each state falls on the political scale.  For the purposes of this map, I have not included independent votes, as I wanted to keep 50% the threshold to flip a state from red to blue.  \n",
    "\n",
    "\n",
    "Each state is labeled with the percent of votes that were in favor of Joe Biden.  Thus, even red states will be labeled with that number.  Subtract that number from 100 to get the percent of votes in favor of Donald Trump"
   ]
  },
  {
   "cell_type": "code",
   "execution_count": 18,
   "metadata": {},
   "outputs": [],
   "source": [
    "results['% Democrat'] = (results['votes_d']/(results['votes_r']+results['votes_d'])*100).round(2)"
   ]
  },
  {
   "cell_type": "code",
   "execution_count": 19,
   "metadata": {},
   "outputs": [
    {
     "data": {
      "text/html": [
       "        <script type=\"text/javascript\">\n",
       "        window.PlotlyConfig = {MathJaxConfig: 'local'};\n",
       "        if (window.MathJax) {MathJax.Hub.Config({SVG: {font: \"STIX-Web\"}});}\n",
       "        if (typeof require !== 'undefined') {\n",
       "        require.undef(\"plotly\");\n",
       "        requirejs.config({\n",
       "            paths: {\n",
       "                'plotly': ['https://cdn.plot.ly/plotly-latest.min']\n",
       "            }\n",
       "        });\n",
       "        require(['plotly'], function(Plotly) {\n",
       "            window._Plotly = Plotly;\n",
       "        });\n",
       "        }\n",
       "        </script>\n",
       "        "
      ]
     },
     "metadata": {},
     "output_type": "display_data"
    },
    {
     "data": {
      "text/html": [
       "<div>                            <div id=\"bdd6e887-7c22-4a9e-adff-331ffc1c80da\" class=\"plotly-graph-div\" style=\"height:525px; width:100%;\"></div>            <script type=\"text/javascript\">                require([\"plotly\"], function(Plotly) {                    window.PLOTLYENV=window.PLOTLYENV || {};                                    if (document.getElementById(\"bdd6e887-7c22-4a9e-adff-331ffc1c80da\")) {                    Plotly.newPlot(                        \"bdd6e887-7c22-4a9e-adff-331ffc1c80da\",                        [{\"coloraxis\": \"coloraxis\", \"geo\": \"geo\", \"hovertemplate\": \"<b>%{hovertext}</b><br><br>Code=%{location}<br>% Democrat=%{z}<extra></extra>\", \"hovertext\": [\"Alabama\", \"Alaska\", \"Arizona\", \"Arkansas\", \"California\", \"Colorado\", \"Connecticut\", \"Delaware\", \"DC\", \"Florida\", \"Georgia\", \"Hawaii\", \"Idaho\", \"Illinois\", \"Indiana\", \"Iowa\", \"Kansas\", \"Kentucky\", \"Louisiana\", \"Maine\", \"Maryland\", \"Massachusetts\", \"Michigan\", \"Minnesota\", \"Mississippi\", \"Missouri\", \"Montana\", \"Nebraska\", \"Nevada\", \"New Hampshire\", \"New Jersey\", \"New Mexico\", \"New York\", \"North Carolina\", \"North Dakota\", \"Ohio\", \"Oklahoma\", \"Oregon\", \"Pennsylvania\", \"Rhode Island\", \"South Carolina\", \"South Dakota\", \"Tennessee\", \"Texas\", \"Utah\", \"Vermont\", \"Virginia\", \"Washington\", \"West Virginia\", \"Wisconsin\", \"Wyoming\"], \"locationmode\": \"USA-states\", \"locations\": [\"AL\", \"AK\", \"AZ\", \"AR\", \"CA\", \"CO\", \"CT\", \"DE\", \"DC\", \"FL\", \"GA\", \"HI\", \"ID\", \"IL\", \"IN\", \"IA\", \"KS\", \"KY\", \"LA\", \"ME\", \"MD\", \"MA\", \"MI\", \"MN\", \"MS\", \"MO\", \"MT\", \"NE\", \"NV\", \"NH\", \"NJ\", \"NM\", \"NY\", \"NC\", \"ND\", \"OH\", \"OK\", \"OR\", \"PA\", \"RI\", \"SC\", \"SD\", \"TN\", \"TX\", \"UT\", \"VT\", \"VA\", \"WA\", \"WV\", \"WI\", \"WY\"], \"name\": \"\", \"type\": \"choropleth\", \"z\": [37.03, 35.09, 50.26, 35.58, 65.95, 56.77, 60.18, 59.65, 94.69, 48.3, 50.12, 65.04, 34.12, 56.59, 41.79, 45.81, 42.26, 36.8, 40.53, 55.18, 64.85, 66.77, 51.36, 53.63, 39.64, 42.06, 41.63, 40.07, 51.39, 53.74, 58.86, 55.4, 56.49, 49.3, 32.79, 45.85, 33.06, 58.31, 50.34, 60.34, 44.07, 36.56, 38.12, 47.04, 39.19, 67.16, 54.97, 60.33, 30.13, 50.32, 27.52]}],                        {\"coloraxis\": {\"cmax\": 100, \"cmin\": 0, \"colorbar\": {\"title\": {\"text\": \"% Democrat\"}}, \"colorscale\": [[0.0, \"rgb(103,0,31)\"], [0.1, \"rgb(178,24,43)\"], [0.2, \"rgb(214,96,77)\"], [0.3, \"rgb(244,165,130)\"], [0.4, \"rgb(253,219,199)\"], [0.5, \"rgb(247,247,247)\"], [0.6, \"rgb(209,229,240)\"], [0.7, \"rgb(146,197,222)\"], [0.8, \"rgb(67,147,195)\"], [0.9, \"rgb(33,102,172)\"], [1.0, \"rgb(5,48,97)\"]]}, \"geo\": {\"center\": {}, \"domain\": {\"x\": [0.0, 1.0], \"y\": [0.0, 1.0]}, \"scope\": \"usa\"}, \"legend\": {\"tracegroupgap\": 0}, \"margin\": {\"t\": 60}, \"template\": {\"data\": {\"bar\": [{\"error_x\": {\"color\": \"#2a3f5f\"}, \"error_y\": {\"color\": \"#2a3f5f\"}, \"marker\": {\"line\": {\"color\": \"#E5ECF6\", \"width\": 0.5}}, \"type\": \"bar\"}], \"barpolar\": [{\"marker\": {\"line\": {\"color\": \"#E5ECF6\", \"width\": 0.5}}, \"type\": \"barpolar\"}], \"carpet\": [{\"aaxis\": {\"endlinecolor\": \"#2a3f5f\", \"gridcolor\": \"white\", \"linecolor\": \"white\", \"minorgridcolor\": \"white\", \"startlinecolor\": \"#2a3f5f\"}, \"baxis\": {\"endlinecolor\": \"#2a3f5f\", \"gridcolor\": \"white\", \"linecolor\": \"white\", \"minorgridcolor\": \"white\", \"startlinecolor\": \"#2a3f5f\"}, \"type\": \"carpet\"}], \"choropleth\": [{\"colorbar\": {\"outlinewidth\": 0, \"ticks\": \"\"}, \"type\": \"choropleth\"}], \"contour\": [{\"colorbar\": {\"outlinewidth\": 0, \"ticks\": \"\"}, \"colorscale\": [[0.0, \"#0d0887\"], [0.1111111111111111, \"#46039f\"], [0.2222222222222222, \"#7201a8\"], [0.3333333333333333, \"#9c179e\"], [0.4444444444444444, \"#bd3786\"], [0.5555555555555556, \"#d8576b\"], [0.6666666666666666, \"#ed7953\"], [0.7777777777777778, \"#fb9f3a\"], [0.8888888888888888, \"#fdca26\"], [1.0, \"#f0f921\"]], \"type\": \"contour\"}], \"contourcarpet\": [{\"colorbar\": {\"outlinewidth\": 0, \"ticks\": \"\"}, \"type\": \"contourcarpet\"}], \"heatmap\": [{\"colorbar\": {\"outlinewidth\": 0, \"ticks\": \"\"}, \"colorscale\": [[0.0, \"#0d0887\"], [0.1111111111111111, \"#46039f\"], [0.2222222222222222, \"#7201a8\"], [0.3333333333333333, \"#9c179e\"], [0.4444444444444444, \"#bd3786\"], [0.5555555555555556, \"#d8576b\"], [0.6666666666666666, \"#ed7953\"], [0.7777777777777778, \"#fb9f3a\"], [0.8888888888888888, \"#fdca26\"], [1.0, \"#f0f921\"]], \"type\": \"heatmap\"}], \"heatmapgl\": [{\"colorbar\": {\"outlinewidth\": 0, \"ticks\": \"\"}, \"colorscale\": [[0.0, \"#0d0887\"], [0.1111111111111111, \"#46039f\"], [0.2222222222222222, \"#7201a8\"], [0.3333333333333333, \"#9c179e\"], [0.4444444444444444, \"#bd3786\"], [0.5555555555555556, \"#d8576b\"], [0.6666666666666666, \"#ed7953\"], [0.7777777777777778, \"#fb9f3a\"], [0.8888888888888888, \"#fdca26\"], [1.0, \"#f0f921\"]], \"type\": \"heatmapgl\"}], \"histogram\": [{\"marker\": {\"colorbar\": {\"outlinewidth\": 0, \"ticks\": \"\"}}, \"type\": \"histogram\"}], \"histogram2d\": [{\"colorbar\": {\"outlinewidth\": 0, \"ticks\": \"\"}, \"colorscale\": [[0.0, \"#0d0887\"], [0.1111111111111111, \"#46039f\"], [0.2222222222222222, \"#7201a8\"], [0.3333333333333333, \"#9c179e\"], [0.4444444444444444, \"#bd3786\"], [0.5555555555555556, \"#d8576b\"], [0.6666666666666666, \"#ed7953\"], [0.7777777777777778, \"#fb9f3a\"], [0.8888888888888888, \"#fdca26\"], [1.0, \"#f0f921\"]], \"type\": \"histogram2d\"}], \"histogram2dcontour\": [{\"colorbar\": {\"outlinewidth\": 0, \"ticks\": \"\"}, \"colorscale\": [[0.0, \"#0d0887\"], [0.1111111111111111, \"#46039f\"], [0.2222222222222222, \"#7201a8\"], [0.3333333333333333, \"#9c179e\"], [0.4444444444444444, \"#bd3786\"], [0.5555555555555556, \"#d8576b\"], [0.6666666666666666, \"#ed7953\"], [0.7777777777777778, \"#fb9f3a\"], [0.8888888888888888, \"#fdca26\"], [1.0, \"#f0f921\"]], \"type\": \"histogram2dcontour\"}], \"mesh3d\": [{\"colorbar\": {\"outlinewidth\": 0, \"ticks\": \"\"}, \"type\": \"mesh3d\"}], \"parcoords\": [{\"line\": {\"colorbar\": {\"outlinewidth\": 0, \"ticks\": \"\"}}, \"type\": \"parcoords\"}], \"pie\": [{\"automargin\": true, \"type\": \"pie\"}], \"scatter\": [{\"marker\": {\"colorbar\": {\"outlinewidth\": 0, \"ticks\": \"\"}}, \"type\": \"scatter\"}], \"scatter3d\": [{\"line\": {\"colorbar\": {\"outlinewidth\": 0, \"ticks\": \"\"}}, \"marker\": {\"colorbar\": {\"outlinewidth\": 0, \"ticks\": \"\"}}, \"type\": \"scatter3d\"}], \"scattercarpet\": [{\"marker\": {\"colorbar\": {\"outlinewidth\": 0, \"ticks\": \"\"}}, \"type\": \"scattercarpet\"}], \"scattergeo\": [{\"marker\": {\"colorbar\": {\"outlinewidth\": 0, \"ticks\": \"\"}}, \"type\": \"scattergeo\"}], \"scattergl\": [{\"marker\": {\"colorbar\": {\"outlinewidth\": 0, \"ticks\": \"\"}}, \"type\": \"scattergl\"}], \"scattermapbox\": [{\"marker\": {\"colorbar\": {\"outlinewidth\": 0, \"ticks\": \"\"}}, \"type\": \"scattermapbox\"}], \"scatterpolar\": [{\"marker\": {\"colorbar\": {\"outlinewidth\": 0, \"ticks\": \"\"}}, \"type\": \"scatterpolar\"}], \"scatterpolargl\": [{\"marker\": {\"colorbar\": {\"outlinewidth\": 0, \"ticks\": \"\"}}, \"type\": \"scatterpolargl\"}], \"scatterternary\": [{\"marker\": {\"colorbar\": {\"outlinewidth\": 0, \"ticks\": \"\"}}, \"type\": \"scatterternary\"}], \"surface\": [{\"colorbar\": {\"outlinewidth\": 0, \"ticks\": \"\"}, \"colorscale\": [[0.0, \"#0d0887\"], [0.1111111111111111, \"#46039f\"], [0.2222222222222222, \"#7201a8\"], [0.3333333333333333, \"#9c179e\"], [0.4444444444444444, \"#bd3786\"], [0.5555555555555556, \"#d8576b\"], [0.6666666666666666, \"#ed7953\"], [0.7777777777777778, \"#fb9f3a\"], [0.8888888888888888, \"#fdca26\"], [1.0, \"#f0f921\"]], \"type\": \"surface\"}], \"table\": [{\"cells\": {\"fill\": {\"color\": \"#EBF0F8\"}, \"line\": {\"color\": \"white\"}}, \"header\": {\"fill\": {\"color\": \"#C8D4E3\"}, \"line\": {\"color\": \"white\"}}, \"type\": \"table\"}]}, \"layout\": {\"annotationdefaults\": {\"arrowcolor\": \"#2a3f5f\", \"arrowhead\": 0, \"arrowwidth\": 1}, \"coloraxis\": {\"colorbar\": {\"outlinewidth\": 0, \"ticks\": \"\"}}, \"colorscale\": {\"diverging\": [[0, \"#8e0152\"], [0.1, \"#c51b7d\"], [0.2, \"#de77ae\"], [0.3, \"#f1b6da\"], [0.4, \"#fde0ef\"], [0.5, \"#f7f7f7\"], [0.6, \"#e6f5d0\"], [0.7, \"#b8e186\"], [0.8, \"#7fbc41\"], [0.9, \"#4d9221\"], [1, \"#276419\"]], \"sequential\": [[0.0, \"#0d0887\"], [0.1111111111111111, \"#46039f\"], [0.2222222222222222, \"#7201a8\"], [0.3333333333333333, \"#9c179e\"], [0.4444444444444444, \"#bd3786\"], [0.5555555555555556, \"#d8576b\"], [0.6666666666666666, \"#ed7953\"], [0.7777777777777778, \"#fb9f3a\"], [0.8888888888888888, \"#fdca26\"], [1.0, \"#f0f921\"]], \"sequentialminus\": [[0.0, \"#0d0887\"], [0.1111111111111111, \"#46039f\"], [0.2222222222222222, \"#7201a8\"], [0.3333333333333333, \"#9c179e\"], [0.4444444444444444, \"#bd3786\"], [0.5555555555555556, \"#d8576b\"], [0.6666666666666666, \"#ed7953\"], [0.7777777777777778, \"#fb9f3a\"], [0.8888888888888888, \"#fdca26\"], [1.0, \"#f0f921\"]]}, \"colorway\": [\"#636efa\", \"#EF553B\", \"#00cc96\", \"#ab63fa\", \"#FFA15A\", \"#19d3f3\", \"#FF6692\", \"#B6E880\", \"#FF97FF\", \"#FECB52\"], \"font\": {\"color\": \"#2a3f5f\"}, \"geo\": {\"bgcolor\": \"white\", \"lakecolor\": \"white\", \"landcolor\": \"#E5ECF6\", \"showlakes\": true, \"showland\": true, \"subunitcolor\": \"white\"}, \"hoverlabel\": {\"align\": \"left\"}, \"hovermode\": \"closest\", \"mapbox\": {\"style\": \"light\"}, \"paper_bgcolor\": \"white\", \"plot_bgcolor\": \"#E5ECF6\", \"polar\": {\"angularaxis\": {\"gridcolor\": \"white\", \"linecolor\": \"white\", \"ticks\": \"\"}, \"bgcolor\": \"#E5ECF6\", \"radialaxis\": {\"gridcolor\": \"white\", \"linecolor\": \"white\", \"ticks\": \"\"}}, \"scene\": {\"xaxis\": {\"backgroundcolor\": \"#E5ECF6\", \"gridcolor\": \"white\", \"gridwidth\": 2, \"linecolor\": \"white\", \"showbackground\": true, \"ticks\": \"\", \"zerolinecolor\": \"white\"}, \"yaxis\": {\"backgroundcolor\": \"#E5ECF6\", \"gridcolor\": \"white\", \"gridwidth\": 2, \"linecolor\": \"white\", \"showbackground\": true, \"ticks\": \"\", \"zerolinecolor\": \"white\"}, \"zaxis\": {\"backgroundcolor\": \"#E5ECF6\", \"gridcolor\": \"white\", \"gridwidth\": 2, \"linecolor\": \"white\", \"showbackground\": true, \"ticks\": \"\", \"zerolinecolor\": \"white\"}}, \"shapedefaults\": {\"line\": {\"color\": \"#2a3f5f\"}}, \"ternary\": {\"aaxis\": {\"gridcolor\": \"white\", \"linecolor\": \"white\", \"ticks\": \"\"}, \"baxis\": {\"gridcolor\": \"white\", \"linecolor\": \"white\", \"ticks\": \"\"}, \"bgcolor\": \"#E5ECF6\", \"caxis\": {\"gridcolor\": \"white\", \"linecolor\": \"white\", \"ticks\": \"\"}}, \"title\": {\"x\": 0.05}, \"xaxis\": {\"automargin\": true, \"gridcolor\": \"white\", \"linecolor\": \"white\", \"ticks\": \"\", \"title\": {\"standoff\": 15}, \"zerolinecolor\": \"white\", \"zerolinewidth\": 2}, \"yaxis\": {\"automargin\": true, \"gridcolor\": \"white\", \"linecolor\": \"white\", \"ticks\": \"\", \"title\": {\"standoff\": 15}, \"zerolinecolor\": \"white\", \"zerolinewidth\": 2}}}, \"title\": {\"text\": \"States Based on Voting Margins\"}},                        {\"responsive\": true}                    ).then(function(){\n",
       "                            \n",
       "var gd = document.getElementById('bdd6e887-7c22-4a9e-adff-331ffc1c80da');\n",
       "var x = new MutationObserver(function (mutations, observer) {{\n",
       "        var display = window.getComputedStyle(gd).display;\n",
       "        if (!display || display === 'none') {{\n",
       "            console.log([gd, 'removed!']);\n",
       "            Plotly.purge(gd);\n",
       "            observer.disconnect();\n",
       "        }}\n",
       "}});\n",
       "\n",
       "// Listen for the removal of the full notebook cells\n",
       "var notebookContainer = gd.closest('#notebook-container');\n",
       "if (notebookContainer) {{\n",
       "    x.observe(notebookContainer, {childList: true});\n",
       "}}\n",
       "\n",
       "// Listen for the clearing of the current output cell\n",
       "var outputEl = gd.closest('.output');\n",
       "if (outputEl) {{\n",
       "    x.observe(outputEl, {childList: true});\n",
       "}}\n",
       "\n",
       "                        })                };                });            </script>        </div>"
      ]
     },
     "metadata": {},
     "output_type": "display_data"
    }
   ],
   "source": [
    "import plotly.express as px\n",
    "fig = px.choropleth(results,  # Input Pandas DataFrame\n",
    "                    locations='Code',  # DataFrame column with locations\n",
    "                    color='% Democrat',  # DataFrame column with color values\n",
    "                    hover_name='state', # DataFrame column hover info\n",
    "                    locationmode = 'USA-states', # Set to plot as US States\n",
    "                    color_continuous_scale = 'rdbu',\n",
    "                    range_color=(0,100))\n",
    "\n",
    "fig.update_layout(\n",
    "    title_text = 'States Based on Voting Margins', # Create a Title\n",
    "    geo_scope='usa',  # Plot only the USA instead of globe\n",
    ")\n",
    "fig.show(renderer='notebook_connected')"
   ]
  },
  {
   "cell_type": "markdown",
   "metadata": {},
   "source": [
    "# Conclusions\n",
    "\n",
    "\n",
    "There have been questions about the Electoral College's legitimacy and relevancy for years now.  Many people believe that a new system of voting should be implemented.  I created this analysis to see how a unique, alternative to the Electoral College would play out in the 2020 Presidential Election.  Is it the best method?  Probably not.  Would it ever be implemented?  I don't know, politics is outside my area of expertise.\n",
    "\n",
    "\n",
    "But I do believe that it provides some advantages.  For one, it eliminates the *winner-take-all* element of the Electoral College.  This makes states like California more accessible to Repulicans, and Texas for Democrats.  You would likely see candidates campaigning more in states other than battleground states like Pennsylvania and Michigan.  Their strategies would have to change because there are now votes to be won in states that were previously inaccessible.\n",
    "\n",
    "\n",
    "I also believe this method provides more value to a single vote.  Many voters believe that their vote doesn't truly matter in the grand scheme of things, unless they live in battleground states.  Under this system, every vote gets a candidate closer to winning another electoral vote, placing much more emphasis on the value of a single vote.  This could also lead to a change in the way people vote for Independent candidates.  Electoral votes would be much more accessible to Independent candidates under this system, which could lead to more voters giving them a chance.  Or it could go in the opposite direction, where a voter who voted Independent because they thought their vote didn't count might switch over to a Democratic or Republican candidate.\n",
    "\n",
    "\n",
    "At the end of the day, I do not know if the Popular-Electoral system is a viable alternative to the Electoral College.  I am simply a math guy who wanted to analyze a \"What-If\" scenario.  Thank you for taking the time to read over my analysis. \n",
    "\n",
    "\n",
    "If you have any questions/comments/corrections/suggestions or if you want me to bring this type of experience to YOUR company, please reach out at tylerjfi@umich.edu."
   ]
  }
 ],
 "metadata": {
  "kernelspec": {
   "display_name": "Python 3",
   "language": "python",
   "name": "python3"
  },
  "language_info": {
   "codemirror_mode": {
    "name": "ipython",
    "version": 3
   },
   "file_extension": ".py",
   "mimetype": "text/x-python",
   "name": "python",
   "nbconvert_exporter": "python",
   "pygments_lexer": "ipython3",
   "version": "3.7.6"
  },
  "widgets": {
   "application/vnd.jupyter.widget-state+json": {
    "state": {},
    "version_major": 2,
    "version_minor": 0
   }
  }
 },
 "nbformat": 4,
 "nbformat_minor": 4
}
